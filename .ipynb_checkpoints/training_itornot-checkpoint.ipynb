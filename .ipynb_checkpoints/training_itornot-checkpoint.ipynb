{
 "cells": [
  {
   "cell_type": "code",
   "execution_count": 1,
   "metadata": {
    "id": "Hi-8gQJQx4up"
   },
   "outputs": [],
   "source": [
    "import pandas as pd\n",
    "import numpy as np\n",
    "import json\n",
    "import random\n",
    "import nltk\n",
    "from nltk.corpus import stopwords\n",
    "from keras.preprocessing.text import Tokenizer\n",
    "from keras.preprocessing.text import text_to_word_sequence\n",
    "from keras.layers import Dropout\n",
    "from tensorflow.keras import regularizers\n",
    "from tensorflow import keras\n",
    "from keras import preprocessing\n",
    "from keras import Model\n",
    "import tensorflow as tf\n",
    "import matplotlib.pyplot as plt"
   ]
  },
  {
   "cell_type": "markdown",
   "metadata": {
    "id": "m-ULxSc9yRE4"
   },
   "source": [
    "# Uploading and preprocessing data"
   ]
  },
  {
   "cell_type": "code",
   "execution_count": 2,
   "metadata": {
    "id": "Ys57rtPFx4uw"
   },
   "outputs": [],
   "source": [
    "#lowercase and removing stopwords\n",
    "def get_data(filename):\n",
    "    with open(filename, 'r', encoding='unicode_escape') as f:\n",
    "        data = f.read()\n",
    "    data = data.lower()\n",
    "\n",
    "    nltk.download('stopwords')\n",
    "    stop_words = stopwords.words('english')\n",
    "    data = data.split()\n",
    "    data = [w for w in data if w not in stop_words]\n",
    "    data = \" \".join(data)\n",
    "\n",
    "    return(data)"
   ]
  },
  {
   "cell_type": "code",
   "execution_count": 3,
   "metadata": {
    "colab": {
     "base_uri": "https://localhost:8080/",
     "height": 105
    },
    "id": "DCMBP37F1rgu",
    "outputId": "33eeed41-7021-45e9-ec7c-fb5c02d658de"
   },
   "outputs": [
    {
     "name": "stderr",
     "output_type": "stream",
     "text": [
      "[nltk_data] Downloading package stopwords to /root/nltk_data...\n",
      "[nltk_data]   Package stopwords is already up-to-date!\n",
      "[nltk_data] Downloading package stopwords to /root/nltk_data...\n",
      "[nltk_data]   Package stopwords is already up-to-date!\n"
     ]
    },
    {
     "data": {
      "text/plain": [
       "'reason java still relevant shoved throats high schoolers college students. time git gud uninstall ch'"
      ]
     },
     "execution_count": 3,
     "metadata": {},
     "output_type": "execute_result"
    }
   ],
   "source": [
    "it_data = get_data('data/it_oriented.TXT')\n",
    "non_it_data = get_data('data/ordinary.TXT')\n",
    "all_data = it_data + non_it_data\n",
    "\n",
    "all_data[:100]"
   ]
  },
  {
   "cell_type": "code",
   "execution_count": 4,
   "metadata": {
    "id": "c-hK_Y1Ux4ux"
   },
   "outputs": [],
   "source": [
    "#creating word index\n",
    "def create_index(texts, filename):\n",
    "    words = texts.split() \n",
    "    \n",
    "    #there can be up to 50 000 words understood by our neural network\n",
    "    tokenizer = Tokenizer(num_words=50000) \n",
    "    \n",
    "    #we wil be tokenizing all of those words from the text files\n",
    "    tokenizer.fit_on_texts(words) \n",
    "    sequences = tokenizer.texts_to_sequences(words)\n",
    "    word_index = tokenizer.word_index\n",
    "\n",
    "    print(f\"Found {len(word_index)} unique words\") \n",
    "    \n",
    "    with open (filename, 'w') as f:\n",
    "        json.dump(word_index, f, indent=4)"
   ]
  },
  {
   "cell_type": "code",
   "execution_count": 5,
   "metadata": {
    "colab": {
     "base_uri": "https://localhost:8080/"
    },
    "id": "T9oM3Gp9x4ux",
    "outputId": "c1e2a9ea-eec2-46b4-f0d3-b6b103285aff",
    "scrolled": true
   },
   "outputs": [
    {
     "name": "stdout",
     "output_type": "stream",
     "text": [
      "Found 12121 unique words\n"
     ]
    }
   ],
   "source": [
    "create_index(all_data, 'word_index.json')"
   ]
  },
  {
   "cell_type": "code",
   "execution_count": 6,
   "metadata": {
    "id": "ErvVpCkl2rCc"
   },
   "outputs": [],
   "source": [
    "#grab and return word index\n",
    "def get_index(filename): #for opening that json file\n",
    "    with open(filename, 'r') as f:\n",
    "        data = json.load(f)\n",
    "    return(data)"
   ]
  },
  {
   "cell_type": "code",
   "execution_count": 7,
   "metadata": {
    "id": "Cn-RNon3287y"
   },
   "outputs": [],
   "source": [
    "word_index = get_index('word_index.json')"
   ]
  },
  {
   "cell_type": "code",
   "execution_count": 8,
   "metadata": {
    "id": "kgaxjl-s3peg"
   },
   "outputs": [],
   "source": [
    "#creating sentences\n",
    "def create_sents(text):\n",
    "    nltk.download('punkt')\n",
    "    sentences = nltk.tokenize.sent_tokenize(text)\n",
    "    return(sentences)"
   ]
  },
  {
   "cell_type": "code",
   "execution_count": 9,
   "metadata": {
    "colab": {
     "base_uri": "https://localhost:8080/",
     "height": 105
    },
    "id": "btdpcg7r4rFD",
    "outputId": "fc9f3fd0-80a7-4b49-c428-35472a8cb60b"
   },
   "outputs": [
    {
     "name": "stderr",
     "output_type": "stream",
     "text": [
      "[nltk_data] Downloading package punkt to /root/nltk_data...\n",
      "[nltk_data]   Package punkt is already up-to-date!\n",
      "[nltk_data] Downloading package punkt to /root/nltk_data...\n",
      "[nltk_data]   Package punkt is already up-to-date!\n"
     ]
    },
    {
     "data": {
      "text/plain": [
       "'reason java still relevant shoved throats high schoolers college students.'"
      ]
     },
     "execution_count": 9,
     "metadata": {},
     "output_type": "execute_result"
    }
   ],
   "source": [
    "it_sents = create_sents(it_data)\n",
    "non_it_sents = create_sents(non_it_data)\n",
    "\n",
    "it_sents[0]"
   ]
  },
  {
   "cell_type": "code",
   "execution_count": 10,
   "metadata": {
    "id": "pEsJh3QH5BQM"
   },
   "outputs": [],
   "source": [
    "#padding\n",
    "def padding_data(sentences, index, maxlen=25):\n",
    "    new_sentences = []\n",
    "    for sentence in sentences:\n",
    "        #this will give us a sentence converted to numerical array\n",
    "        sentence = text_to_word_sequence(sentence) \n",
    "        new_sentence = []\n",
    "        words = []\n",
    "        for word in sentence:\n",
    "            try:\n",
    "                word = index[word]\n",
    "            except:\n",
    "                KeyError\n",
    "                #for unknown words we encounter:\n",
    "                word = 0 \n",
    "            words.append(word)\n",
    "        new_sentence.append(words)\n",
    "        new_sentence = preprocessing.sequence.pad_sequences(new_sentence, maxlen=maxlen, padding='post')\n",
    "        new_sentences.append(new_sentence[0])\n",
    "    return(new_sentences)"
   ]
  },
  {
   "cell_type": "code",
   "execution_count": 11,
   "metadata": {
    "colab": {
     "base_uri": "https://localhost:8080/"
    },
    "id": "heg9Cuu_5VkE",
    "outputId": "1e781b9e-fd34-4349-d1cc-72f95db60765"
   },
   "outputs": [
    {
     "data": {
      "text/plain": [
       "array([ 359,  125,   79, 1165, 6041, 6042,  131, 6043,  849,  278,    0,\n",
       "          0,    0,    0,    0,    0,    0,    0,    0,    0,    0,    0,\n",
       "          0,    0,    0], dtype=int32)"
      ]
     },
     "execution_count": 11,
     "metadata": {},
     "output_type": "execute_result"
    }
   ],
   "source": [
    "it_padded = padding_data(it_sents, word_index, maxlen=25)\n",
    "non_it_padded = padding_data(non_it_sents, word_index, maxlen=25)\n",
    "\n",
    "it_padded[0]"
   ]
  },
  {
   "cell_type": "code",
   "execution_count": 12,
   "metadata": {
    "id": "F_DFuW4T5iR3"
   },
   "outputs": [],
   "source": [
    "#reverse word index\n",
    "def reverse_index(word_index):\n",
    "    reverse_word_index = {value: key for (key, value) in word_index.items()}\n",
    "    return(reverse_word_index)\n",
    "    \n",
    "def reconst_text(text, reverse_word_index):\n",
    "    return(\" \".join([reverse_word_index.get(i, \"?\") for i in text]))"
   ]
  },
  {
   "cell_type": "code",
   "execution_count": 13,
   "metadata": {
    "colab": {
     "base_uri": "https://localhost:8080/",
     "height": 35
    },
    "id": "2S0z_rKR5pYa",
    "outputId": "a5b28263-e105-47a2-8b55-8c08b6926a84"
   },
   "outputs": [
    {
     "data": {
      "text/plain": [
       "'reason java still relevant shoved throats high schoolers college students ? ? ? ? ? ? ? ? ? ? ? ? ? ? ?'"
      ]
     },
     "execution_count": 13,
     "metadata": {},
     "output_type": "execute_result"
    }
   ],
   "source": [
    "reverse_word_index = reverse_index(word_index)\n",
    "\n",
    "reconst_text(it_padded[0], reverse_word_index)"
   ]
  },
  {
   "cell_type": "markdown",
   "metadata": {
    "id": "VTckgQd16Uj6"
   },
   "source": [
    "# Labelling Data"
   ]
  },
  {
   "cell_type": "code",
   "execution_count": 14,
   "metadata": {
    "id": "R_tHRdoQ6YM_"
   },
   "outputs": [],
   "source": [
    "def label_data(sentences, label):\n",
    "    total_chunks = []\n",
    "    for sentence in sentences:\n",
    "        #in form of a tuple that consists of a list of numbers and a label\n",
    "        total_chunks.append((sentence, label)) \n",
    "    return(total_chunks)"
   ]
  },
  {
   "cell_type": "code",
   "execution_count": 15,
   "metadata": {
    "colab": {
     "base_uri": "https://localhost:8080/"
    },
    "id": "B_bOcrKp6Y4i",
    "outputId": "4a412fda-10da-4b8a-98ca-110a581e3853"
   },
   "outputs": [
    {
     "data": {
      "text/plain": [
       "(array([2779, 1803, 8427, 8428,  464, 5199, 1641,  649, 5200, 5201,  393,\n",
       "           0,    0,    0,    0,    0,    0,    0,    0,    0,    0,    0,\n",
       "           0,    0,    0], dtype=int32),\n",
       " 0)"
      ]
     },
     "execution_count": 15,
     "metadata": {},
     "output_type": "execute_result"
    }
   ],
   "source": [
    "non_it_labelled = label_data(non_it_padded, 0)\n",
    "it_labelled = label_data(it_padded, 1)\n",
    "\n",
    "non_it_labelled[0]"
   ]
  },
  {
   "cell_type": "markdown",
   "metadata": {
    "id": "YtJOimlU6s8n"
   },
   "source": [
    "# Creating Training Data"
   ]
  },
  {
   "cell_type": "code",
   "execution_count": 16,
   "metadata": {
    "id": "um4s9iOa6xlf"
   },
   "outputs": [],
   "source": [
    "def create_training(total_chunks, cutoff):\n",
    "    random.shuffle(total_chunks)\n",
    "    training_data = []\n",
    "    training_labels = []\n",
    "    testing_data = []\n",
    "    testing_labels = []\n",
    "    test_num = len(total_chunks) * cutoff\n",
    "    x = 0\n",
    "    \n",
    "    for entry in total_chunks:\n",
    "        if x > test_num:\n",
    "            testing_data.append(entry[0])\n",
    "            testing_labels.append(entry[1])\n",
    "        else:\n",
    "            training_data.append(entry[0])\n",
    "            training_labels.append(entry[1])\n",
    "        x = x + 1\n",
    "\n",
    "    #we are converting all that into a numpy array\n",
    "    training_data = np.array(training_data)\n",
    "    #training_data = training_data[np.newaxis, :]\n",
    "    training_labels = np.array(training_labels)\n",
    "    testing_data = np.array(testing_data)\n",
    "    #testing_data = testing_data[np.newaxis, :]\n",
    "    testing_labels = np.array(testing_labels)\n",
    "    \n",
    "    return(training_data, training_labels, testing_data, testing_labels)"
   ]
  },
  {
   "cell_type": "code",
   "execution_count": 17,
   "metadata": {
    "id": "W-uuP8nV6-ar"
   },
   "outputs": [],
   "source": [
    "all_data = it_labelled + non_it_labelled\n",
    "tt_data = create_training(all_data, cutoff = 0.8)"
   ]
  },
  {
   "cell_type": "code",
   "execution_count": 18,
   "metadata": {
    "colab": {
     "base_uri": "https://localhost:8080/"
    },
    "id": "rCdDYiXlrKlR",
    "outputId": "edae15bc-b4c2-4346-a86a-cc337bd2a553"
   },
   "outputs": [
    {
     "data": {
      "text/plain": [
       "(array([[2999,    2, 1056, ...,    0,    0,    0],\n",
       "        [5094,    0,    0, ...,    0,    0,    0],\n",
       "        [1472,   64,  889, ...,    0,    0,    0],\n",
       "        ...,\n",
       "        [ 404, 3338, 3029, ...,    0,    0,    0],\n",
       "        [   2,  710,  118, ...,  781,  171,  208],\n",
       "        [1006,  937,  292, ...,    0,    0,    0]], dtype=int32),\n",
       " array([0, 1, 0, ..., 0, 0, 0]),\n",
       " array([[  144,  1707,   217, ...,     0,     0,     0],\n",
       "        [ 2555,  1130,  2956, ...,   753,   121,  4706],\n",
       "        [ 2848,   203,     0, ...,     0,     0,     0],\n",
       "        ...,\n",
       "        [10344, 10345,  3318, ...,     0,     0,     0],\n",
       "        [  920,   540,  8398, ...,     0,     0,     0],\n",
       "        [ 2961,    50,   217, ...,     0,     0,     0]], dtype=int32),\n",
       " array([1, 1, 1, ..., 0, 1, 0]))"
      ]
     },
     "execution_count": 18,
     "metadata": {},
     "output_type": "execute_result"
    }
   ],
   "source": [
    "tt_data"
   ]
  },
  {
   "cell_type": "markdown",
   "metadata": {
    "id": "vOeDo_v4rZjq"
   },
   "source": []
  },
  {
   "cell_type": "code",
   "execution_count": 19,
   "metadata": {
    "colab": {
     "base_uri": "https://localhost:8080/"
    },
    "id": "z1qmWiEErKlT",
    "outputId": "6182e291-31bb-4cad-cf59-ff2189afb1ca"
   },
   "outputs": [
    {
     "name": "stdout",
     "output_type": "stream",
     "text": [
      "Model: \"sequential\"\n",
      "_________________________________________________________________\n",
      " Layer (type)                Output Shape              Param #   \n",
      "=================================================================\n",
      " embedding (Embedding)       (None, None, 25)          500000    \n",
      "                                                                 \n",
      " global_average_pooling1d (G  (None, 25)               0         \n",
      " lobalAveragePooling1D)                                          \n",
      "                                                                 \n",
      " dense (Dense)               (None, 32)                832       \n",
      "                                                                 \n",
      " dropout (Dropout)           (None, 32)                0         \n",
      "                                                                 \n",
      " dense_1 (Dense)             (None, 32)                1056      \n",
      "                                                                 \n",
      " dropout_1 (Dropout)         (None, 32)                0         \n",
      "                                                                 \n",
      " dense_2 (Dense)             (None, 16)                528       \n",
      "                                                                 \n",
      " dropout_2 (Dropout)         (None, 16)                0         \n",
      "                                                                 \n",
      " dense_3 (Dense)             (None, 1)                 17        \n",
      "                                                                 \n",
      "=================================================================\n",
      "Total params: 502,433\n",
      "Trainable params: 502,433\n",
      "Non-trainable params: 0\n",
      "_________________________________________________________________\n"
     ]
    }
   ],
   "source": [
    "#create model\n",
    "def create_model():\n",
    "  model = keras.Sequential()\n",
    "  model.add(keras.layers.Embedding(20000, 25))\n",
    "  model.add(keras.layers.GlobalAveragePooling1D())\n",
    "  model.add(keras.layers.Dense(32, activation='relu'))\n",
    "  model.add(Dropout(0.2))\n",
    "  model.add(keras.layers.Dense(32, activation='relu'))\n",
    "  model.add(Dropout(0.2))\n",
    "  model.add(keras.layers.Dense(16, activation='relu'))\n",
    "  model.add(Dropout(0.2))\n",
    "  model.add(keras.layers.Dense(1, activation='sigmoid',))\n",
    "  model.summary()\n",
    "  model.compile(optimizer='adam', loss='squared_hinge', metrics=['accuracy'])\n",
    "  return(model)\n",
    "\n",
    "#calling the function\n",
    "model = create_model()"
   ]
  },
  {
   "cell_type": "code",
   "execution_count": 20,
   "metadata": {
    "colab": {
     "base_uri": "https://localhost:8080/"
    },
    "id": "kVA56w1Zrahz",
    "outputId": "ce2b3b93-0b30-490c-fe93-c4cbe362d41a"
   },
   "outputs": [
    {
     "name": "stdout",
     "output_type": "stream",
     "text": [
      "Epoch 1/5\n",
      "160/160 [==============================] - 4s 18ms/step - loss: 1.0664 - accuracy: 0.5166 - val_loss: 0.9759 - val_accuracy: 0.5088\n",
      "Epoch 2/5\n",
      "160/160 [==============================] - 3s 18ms/step - loss: 0.8097 - accuracy: 0.7023 - val_loss: 0.6605 - val_accuracy: 0.8768\n",
      "Epoch 3/5\n",
      "160/160 [==============================] - 3s 19ms/step - loss: 0.6203 - accuracy: 0.9098 - val_loss: 0.6409 - val_accuracy: 0.8750\n",
      "Epoch 4/5\n",
      "160/160 [==============================] - 3s 17ms/step - loss: 0.5789 - accuracy: 0.9465 - val_loss: 0.6591 - val_accuracy: 0.9032\n",
      "Epoch 5/5\n",
      "160/160 [==============================] - 2s 14ms/step - loss: 0.5649 - accuracy: 0.9574 - val_loss: 0.6395 - val_accuracy: 0.8996\n"
     ]
    },
    {
     "data": {
      "image/png": "[encoded data removed]",
      "text/plain": [
       "<Figure size 640x480 with 1 Axes>"
      ]
     },
     "metadata": {},
     "output_type": "display_data"
    },
    {
     "name": "stdout",
     "output_type": "stream",
     "text": [
      "45/45 [==============================] - 0s 5ms/step - loss: 0.6610 - accuracy: 0.8860\n",
      "INFO:tensorflow:Assets written to: models/it_or_not.model/assets\n"
     ]
    }
   ],
   "source": [
    "#train model\n",
    "def train_model(model, tt_data, val_size=.1, epochs=1, batch_size=32):\n",
    "    vals = int(len(tt_data[0])*val_size)\n",
    "    training_data = tt_data[0]\n",
    "    training_labels = tt_data[1]\n",
    "    testing_data = tt_data[2]\n",
    "    testing_labels = tt_data[3]\n",
    "    \n",
    "    x_val = training_data[:vals]\n",
    "    x_train = training_data[vals:]\n",
    "    \n",
    "    y_val = training_labels[:vals]\n",
    "    y_train = training_labels[vals:]\n",
    "    \n",
    "    history = model.fit(x_train, y_train, epochs=epochs, batch_size=batch_size, validation_data=(x_val, y_val), verbose=1, shuffle=True)\n",
    "    \n",
    "    plt.plot(history.history['loss'], label='MAE (training data)')\n",
    "    plt.plot(history.history['val_loss'], label='MAE (validation data)')\n",
    "    plt.title('MAE IT')\n",
    "    plt.ylabel('MAE value')\n",
    "    plt.xlabel('No. epoch')\n",
    "    plt.legend(loc=\"upper left\")\n",
    "    plt.show()\n",
    "    \n",
    "    model_results = model.evaluate(testing_data, testing_labels)\n",
    "    return model\n",
    "    \n",
    "#calling the function\n",
    "model = train_model(model, tt_data=tt_data, epochs=5, batch_size=32)\n",
    "model.save('models/it_or_not.model')"
   ]
  },
  {
   "cell_type": "code",
   "execution_count": null,
   "metadata": {},
   "outputs": [],
   "source": []
  }
 ],
 "metadata": {
  "accelerator": "GPU",
  "colab": {
   "collapsed_sections": [],
   "name": "training_itornot.ipynb",
   "provenance": []
  },
  "kernelspec": {
   "display_name": "Python 3",
   "language": "python",
   "name": "python3"
  },
  "language_info": {
   "codemirror_mode": {
    "name": "ipython",
    "version": 3
   },
   "file_extension": ".py",
   "mimetype": "text/x-python",
   "name": "python",
   "nbconvert_exporter": "python",
   "pygments_lexer": "ipython3",
   "version": "3.8.10"
  }
 },
 "nbformat": 4,
 "nbformat_minor": 1
}
