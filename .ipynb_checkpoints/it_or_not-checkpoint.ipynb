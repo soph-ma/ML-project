{
 "cells": [
  {
   "cell_type": "code",
   "execution_count": 1,
   "metadata": {
    "id": "Hi-8gQJQx4up"
   },
   "outputs": [],
   "source": [
    "import pandas as pd\n",
    "import numpy as np\n",
    "import json\n",
    "import random\n",
    "import nltk\n",
    "from nltk.corpus import stopwords\n",
    "from keras.preprocessing.text import Tokenizer\n",
    "from keras.preprocessing.text import text_to_word_sequence\n",
    "from tensorflow import keras\n",
    "from keras import preprocessing"
   ]
  },
  {
   "cell_type": "markdown",
   "metadata": {
    "id": "m-ULxSc9yRE4"
   },
   "source": [
    "# Uploading and preprocessing data"
   ]
  },
  {
   "cell_type": "code",
   "execution_count": 2,
   "metadata": {
    "id": "Ys57rtPFx4uw"
   },
   "outputs": [],
   "source": [
    "#lowercase and removing stopwords\n",
    "def get_data(filename):\n",
    "    with open(filename, 'r', encoding='unicode_escape') as f:\n",
    "        data = f.read()\n",
    "    data = data.lower()\n",
    "\n",
    "    nltk.download('stopwords')\n",
    "    stop_words = stopwords.words('english')\n",
    "    data = data.split()\n",
    "    data = [w for w in data if w not in stop_words]\n",
    "    data = \" \".join(data)\n",
    "\n",
    "    return(data)"
   ]
  },
  {
   "cell_type": "code",
   "execution_count": 3,
   "metadata": {
    "colab": {
     "base_uri": "https://localhost:8080/",
     "height": 103
    },
    "id": "DCMBP37F1rgu",
    "outputId": "a4b2fe97-8b49-4401-b490-10bb346be095"
   },
   "outputs": [
    {
     "name": "stderr",
     "output_type": "stream",
     "text": [
      "[nltk_data] Downloading package stopwords to /root/nltk_data...\n",
      "[nltk_data]   Package stopwords is already up-to-date!\n",
      "[nltk_data] Downloading package stopwords to /root/nltk_data...\n",
      "[nltk_data]   Package stopwords is already up-to-date!\n"
     ]
    },
    {
     "data": {
      "text/plain": [
       "'reason java still re'"
      ]
     },
     "execution_count": 3,
     "metadata": {},
     "output_type": "execute_result"
    }
   ],
   "source": [
    "it_data = get_data('data/it_oriented.TXT')\n",
    "non_it_data = get_data('data/ordinary.TXT')\n",
    "all_data = it_data + non_it_data\n",
    "\n",
    "all_data[:20]"
   ]
  },
  {
   "cell_type": "code",
   "execution_count": 4,
   "metadata": {
    "id": "c-hK_Y1Ux4ux"
   },
   "outputs": [],
   "source": [
    "#creating word index\n",
    "def create_index(texts, filename):\n",
    "    words = texts.split() \n",
    "    \n",
    "    #there can be up to 50 000 words understood by our neural network\n",
    "    tokenizer = Tokenizer(num_words=50000) \n",
    "    \n",
    "    #we wil be tokenizing all of those words from the text files\n",
    "    tokenizer.fit_on_texts(words) \n",
    "    sequences = tokenizer.texts_to_sequences(words)\n",
    "    word_index = tokenizer.word_index\n",
    "\n",
    "    print(f\"Found {len(word_index)} unique words\") \n",
    "    \n",
    "    with open (filename, 'w') as f:\n",
    "        json.dump(word_index, f, indent=4)"
   ]
  },
  {
   "cell_type": "code",
   "execution_count": 5,
   "metadata": {
    "id": "T9oM3Gp9x4ux",
    "scrolled": true
   },
   "outputs": [
    {
     "name": "stdout",
     "output_type": "stream",
     "text": [
      "Found 12121 unique words\n"
     ]
    }
   ],
   "source": [
    "create_index(all_data, 'word_index.json')"
   ]
  },
  {
   "cell_type": "code",
   "execution_count": 6,
   "metadata": {
    "id": "ErvVpCkl2rCc"
   },
   "outputs": [],
   "source": [
    "#grab and return word index\n",
    "def get_index(filename): #for opening that json file\n",
    "    with open(filename, 'r') as f:\n",
    "        data = json.load(f)\n",
    "    return(data)"
   ]
  },
  {
   "cell_type": "code",
   "execution_count": 7,
   "metadata": {
    "id": "Cn-RNon3287y"
   },
   "outputs": [],
   "source": [
    "word_index = get_index('word_index.json')"
   ]
  },
  {
   "cell_type": "code",
   "execution_count": 8,
   "metadata": {
    "id": "kgaxjl-s3peg"
   },
   "outputs": [],
   "source": [
    "#creating sentences\n",
    "def create_sents(text):\n",
    "    nltk.download('punkt')\n",
    "    sentences = nltk.tokenize.sent_tokenize(text)\n",
    "    return(sentences)"
   ]
  },
  {
   "cell_type": "code",
   "execution_count": 9,
   "metadata": {
    "id": "btdpcg7r4rFD"
   },
   "outputs": [
    {
     "name": "stderr",
     "output_type": "stream",
     "text": [
      "[nltk_data] Downloading package punkt to /root/nltk_data...\n",
      "[nltk_data]   Package punkt is already up-to-date!\n",
      "[nltk_data] Downloading package punkt to /root/nltk_data...\n",
      "[nltk_data]   Package punkt is already up-to-date!\n"
     ]
    },
    {
     "data": {
      "text/plain": [
       "'reason java still relevant shoved throats high schoolers college students.'"
      ]
     },
     "execution_count": 9,
     "metadata": {},
     "output_type": "execute_result"
    }
   ],
   "source": [
    "it_sents = create_sents(it_data)\n",
    "non_it_sents = create_sents(non_it_data)\n",
    "\n",
    "it_sents[0]"
   ]
  },
  {
   "cell_type": "code",
   "execution_count": 10,
   "metadata": {
    "id": "pEsJh3QH5BQM"
   },
   "outputs": [],
   "source": [
    "#padding\n",
    "def padding_data(sentences, index, maxlen=25):\n",
    "    new_sentences = []\n",
    "    for sentence in sentences:\n",
    "        #this will give us a sentence converted to numerical array\n",
    "        sentence = text_to_word_sequence(sentence) \n",
    "        new_sentence = []\n",
    "        words = []\n",
    "        for word in sentence:\n",
    "            try:\n",
    "                word = index[word]\n",
    "            except:\n",
    "                KeyError\n",
    "                #for unknown words we encounter:\n",
    "                word = 0 \n",
    "            words.append(word)\n",
    "        new_sentence.append(words)\n",
    "        new_sentence = preprocessing.sequence.pad_sequences(new_sentence, maxlen=maxlen, padding='post')\n",
    "        new_sentences.append(new_sentence[0])\n",
    "    return(new_sentences)"
   ]
  },
  {
   "cell_type": "code",
   "execution_count": 11,
   "metadata": {
    "colab": {
     "base_uri": "https://localhost:8080/"
    },
    "id": "heg9Cuu_5VkE",
    "outputId": "b67b2a6e-f52d-479c-f81c-3d4ad88347b3"
   },
   "outputs": [
    {
     "data": {
      "text/plain": [
       "array([ 359,  125,   79, 1165, 6041, 6042,  131, 6043,  849,  278,    0,\n",
       "          0,    0,    0,    0,    0,    0,    0,    0,    0,    0,    0,\n",
       "          0,    0,    0], dtype=int32)"
      ]
     },
     "execution_count": 11,
     "metadata": {},
     "output_type": "execute_result"
    }
   ],
   "source": [
    "it_padded = padding_data(it_sents, word_index, maxlen=25)\n",
    "non_it_padded = padding_data(non_it_sents, word_index, maxlen=25)\n",
    "\n",
    "it_padded[0]"
   ]
  },
  {
   "cell_type": "code",
   "execution_count": 12,
   "metadata": {
    "id": "F_DFuW4T5iR3"
   },
   "outputs": [],
   "source": [
    "#reverse word index\n",
    "#def reverse_index(word_index):\n",
    " #   reverse_word_index = {value: key for (key, value) in word_index.items()}\n",
    "  #  return(reverse_word_index)\n",
    "    \n",
    "#def reconst_text(text, reverse_word_index):\n",
    " #   return(\" \".join([reverse_word_index.get(i, \"?\") for i in text]))"
   ]
  },
  {
   "cell_type": "code",
   "execution_count": 13,
   "metadata": {
    "colab": {
     "base_uri": "https://localhost:8080/",
     "height": 35
    },
    "id": "2S0z_rKR5pYa",
    "outputId": "e64e65af-306f-4fdf-97a1-02ebeae32d99"
   },
   "outputs": [],
   "source": [
    "#reverse_word_index = reverse_index(word_index)\n",
    "\n",
    "#reconst_text(it_padded[0], reverse_word_index)"
   ]
  },
  {
   "cell_type": "markdown",
   "metadata": {
    "id": "VTckgQd16Uj6"
   },
   "source": [
    "# Labelling Data"
   ]
  },
  {
   "cell_type": "code",
   "execution_count": 14,
   "metadata": {
    "id": "R_tHRdoQ6YM_"
   },
   "outputs": [],
   "source": [
    "def label_data(sentences, label):\n",
    "    total_chunks = []\n",
    "    for sentence in sentences:\n",
    "        #in form of a tuple that consists of a list of numbers and a label\n",
    "        total_chunks.append((sentence, label)) \n",
    "    return(total_chunks)"
   ]
  },
  {
   "cell_type": "code",
   "execution_count": 15,
   "metadata": {
    "colab": {
     "base_uri": "https://localhost:8080/"
    },
    "id": "B_bOcrKp6Y4i",
    "outputId": "f5e1487f-8b90-4301-9045-0ca63fffe872"
   },
   "outputs": [
    {
     "data": {
      "text/plain": [
       "(array([2779, 1803, 8427, 8428,  464, 5199, 1641,  649, 5200, 5201,  393,\n",
       "           0,    0,    0,    0,    0,    0,    0,    0,    0,    0,    0,\n",
       "           0,    0,    0], dtype=int32),\n",
       " 0)"
      ]
     },
     "execution_count": 15,
     "metadata": {},
     "output_type": "execute_result"
    }
   ],
   "source": [
    "non_it_labelled = label_data(non_it_padded, 0)\n",
    "it_labelled = label_data(it_padded, 1)\n",
    "\n",
    "non_it_labelled[0]"
   ]
  },
  {
   "cell_type": "markdown",
   "metadata": {
    "id": "YtJOimlU6s8n"
   },
   "source": [
    "# Creating Training Data"
   ]
  },
  {
   "cell_type": "code",
   "execution_count": 16,
   "metadata": {
    "id": "um4s9iOa6xlf"
   },
   "outputs": [],
   "source": [
    "def create_training(total_chunks, cutoff):\n",
    "    random.shuffle(total_chunks)\n",
    "    training_data = []\n",
    "    training_labels = []\n",
    "    testing_data = []\n",
    "    testing_labels = []\n",
    "    test_num = len(total_chunks) * cutoff\n",
    "    x = 0\n",
    "    \n",
    "    for entry in total_chunks:\n",
    "        if x > test_num:\n",
    "            testing_data.append(entry[0])\n",
    "            testing_labels.append(entry[1])\n",
    "        else:\n",
    "            training_data.append(entry[0])\n",
    "            training_labels.append(entry[1])\n",
    "        x = x + 1\n",
    "\n",
    "    #we are converting all that into a numpy array\n",
    "    training_data = np.array(training_data) \n",
    "    training_labels = np.array(training_labels)\n",
    "    testing_data = np.array(testing_data)\n",
    "    testing_labels = np.array(testing_labels)\n",
    "    \n",
    "    return(training_data, training_labels, testing_data, testing_labels)"
   ]
  },
  {
   "cell_type": "code",
   "execution_count": 17,
   "metadata": {
    "colab": {
     "base_uri": "https://localhost:8080/"
    },
    "id": "W-uuP8nV6-ar",
    "outputId": "678a6f7d-e59e-429d-f265-5896ead3dab0"
   },
   "outputs": [],
   "source": [
    "all_data = it_labelled + non_it_labelled\n",
    "tt_data = create_training(all_data, cutoff = 0.8)"
   ]
  },
  {
   "cell_type": "code",
   "execution_count": 18,
   "metadata": {},
   "outputs": [
    {
     "data": {
      "text/plain": [
       "(array([[  32, 4134,   24, ...,    0,    0,    0],\n",
       "        [  39,  651,    2, ...,    0,    0,    0],\n",
       "        [  11,  162,   11, ...,    0,    0,    0],\n",
       "        ...,\n",
       "        [1430, 1289, 1104, ...,    0,    0,    0],\n",
       "        [ 310, 2068, 2513, ...,    0,    0,    0],\n",
       "        [1383,  648,  448, ...,    0,    0,    0]], dtype=int32),\n",
       " array([0, 1, 1, ..., 1, 0, 0]),\n",
       " array([[ 199,  113,  573, ...,   82,    8,   85],\n",
       "        [ 257, 1600, 3691, ...,    0,    0,    0],\n",
       "        [   6,  281,  385, ...,    0,    0,    0],\n",
       "        ...,\n",
       "        [ 641, 2200, 7244, ...,    0,    0,    0],\n",
       "        [ 384,  924,  155, ...,    0,    0,    0],\n",
       "        [   9,   83,   46, ...,    0,    0,    0]], dtype=int32),\n",
       " array([1, 0, 1, ..., 1, 0, 1]))"
      ]
     },
     "execution_count": 18,
     "metadata": {},
     "output_type": "execute_result"
    }
   ],
   "source": [
    "tt_data"
   ]
  },
  {
   "cell_type": "code",
   "execution_count": 19,
   "metadata": {},
   "outputs": [
    {
     "name": "stdout",
     "output_type": "stream",
     "text": [
      "Model: \"sequential\"\n",
      "_________________________________________________________________\n",
      " Layer (type)                Output Shape              Param #   \n",
      "=================================================================\n",
      " embedding (Embedding)       (None, None, 25)          500000    \n",
      "                                                                 \n",
      " global_average_pooling1d (G  (None, 25)               0         \n",
      " lobalAveragePooling1D)                                          \n",
      "                                                                 \n",
      " dense (Dense)               (None, 16)                416       \n",
      "                                                                 \n",
      " dense_1 (Dense)             (None, 16)                272       \n",
      "                                                                 \n",
      " dense_2 (Dense)             (None, 1)                 17        \n",
      "                                                                 \n",
      "=================================================================\n",
      "Total params: 500,705\n",
      "Trainable params: 500,705\n",
      "Non-trainable params: 0\n",
      "_________________________________________________________________\n"
     ]
    }
   ],
   "source": [
    "#create model\n",
    "def create_model():\n",
    "    model = keras.Sequential()\n",
    "    model.add(keras.layers.Embedding(20000, 25))\n",
    "    model.add(keras.layers.GlobalAveragePooling1D())\n",
    "    model.add(keras.layers.Dense(16, activation='relu'))\n",
    "    model.add(keras.layers.Dense(16, activation='tanh'))\n",
    "    model.add(keras.layers.Dense(1, activation='sigmoid'))\n",
    "    model.summary()\n",
    "    model.compile(optimizer='adam', loss='binary_crossentropy', metrics=['accuracy'])\n",
    "    return(model)\n",
    "\n",
    "#calling the function\n",
    "model = create_model()"
   ]
  },
  {
   "cell_type": "code",
   "execution_count": 20,
   "metadata": {},
   "outputs": [
    {
     "name": "stdout",
     "output_type": "stream",
     "text": [
      "Epoch 1/50\n",
      "125/125 [==============================] - 8s 34ms/step - loss: 0.6655 - accuracy: 0.6512 - val_loss: 0.5740 - val_accuracy: 0.8570\n",
      "Epoch 2/50\n",
      "125/125 [==============================] - 4s 31ms/step - loss: 0.3597 - accuracy: 0.8915 - val_loss: 0.3037 - val_accuracy: 0.8746\n",
      "Epoch 3/50\n",
      "125/125 [==============================] - 6s 49ms/step - loss: 0.1493 - accuracy: 0.9515 - val_loss: 0.2643 - val_accuracy: 0.8869\n",
      "Epoch 4/50\n",
      "125/125 [==============================] - 5s 43ms/step - loss: 0.0821 - accuracy: 0.9751 - val_loss: 0.2844 - val_accuracy: 0.8845\n",
      "Epoch 5/50\n",
      "125/125 [==============================] - 5s 40ms/step - loss: 0.0536 - accuracy: 0.9837 - val_loss: 0.3217 - val_accuracy: 0.8722\n",
      "Epoch 6/50\n",
      "125/125 [==============================] - 5s 41ms/step - loss: 0.0350 - accuracy: 0.9897 - val_loss: 0.3452 - val_accuracy: 0.8763\n",
      "Epoch 7/50\n",
      "125/125 [==============================] - 4s 32ms/step - loss: 0.0253 - accuracy: 0.9927 - val_loss: 0.3728 - val_accuracy: 0.8763\n",
      "Epoch 8/50\n",
      "125/125 [==============================] - 4s 33ms/step - loss: 0.0192 - accuracy: 0.9950 - val_loss: 0.4025 - val_accuracy: 0.8746\n",
      "Epoch 9/50\n",
      "125/125 [==============================] - 5s 42ms/step - loss: 0.0129 - accuracy: 0.9970 - val_loss: 0.4321 - val_accuracy: 0.8751\n",
      "Epoch 10/50\n",
      "125/125 [==============================] - 5s 44ms/step - loss: 0.0123 - accuracy: 0.9962 - val_loss: 0.4684 - val_accuracy: 0.8669\n",
      "Epoch 11/50\n",
      "125/125 [==============================] - 5s 41ms/step - loss: 0.0080 - accuracy: 0.9985 - val_loss: 0.5431 - val_accuracy: 0.8494\n",
      "Epoch 12/50\n",
      "125/125 [==============================] - 5s 43ms/step - loss: 0.0064 - accuracy: 0.9987 - val_loss: 0.5244 - val_accuracy: 0.8687\n",
      "Epoch 13/50\n",
      "125/125 [==============================] - 5s 39ms/step - loss: 0.0059 - accuracy: 0.9985 - val_loss: 0.5374 - val_accuracy: 0.8693\n",
      "Epoch 14/50\n",
      "125/125 [==============================] - 5s 37ms/step - loss: 0.0044 - accuracy: 0.9997 - val_loss: 0.5682 - val_accuracy: 0.8699\n",
      "Epoch 15/50\n",
      "125/125 [==============================] - 8s 62ms/step - loss: 0.0036 - accuracy: 0.9992 - val_loss: 0.6041 - val_accuracy: 0.8576\n",
      "Epoch 16/50\n",
      "125/125 [==============================] - 6s 52ms/step - loss: 0.0026 - accuracy: 0.9997 - val_loss: 0.6401 - val_accuracy: 0.8552\n",
      "Epoch 17/50\n",
      "125/125 [==============================] - 6s 51ms/step - loss: 0.0021 - accuracy: 0.9997 - val_loss: 0.6492 - val_accuracy: 0.8576\n",
      "Epoch 18/50\n",
      "125/125 [==============================] - 6s 51ms/step - loss: 0.0020 - accuracy: 0.9997 - val_loss: 0.6944 - val_accuracy: 0.8552\n",
      "Epoch 19/50\n",
      "125/125 [==============================] - 7s 59ms/step - loss: 0.0017 - accuracy: 1.0000 - val_loss: 0.6972 - val_accuracy: 0.8558\n",
      "Epoch 20/50\n",
      "125/125 [==============================] - 7s 58ms/step - loss: 0.0011 - accuracy: 1.0000 - val_loss: 0.6854 - val_accuracy: 0.8628\n",
      "Epoch 21/50\n",
      "125/125 [==============================] - 6s 49ms/step - loss: 0.0011 - accuracy: 1.0000 - val_loss: 0.7310 - val_accuracy: 0.8546\n",
      "Epoch 22/50\n",
      "125/125 [==============================] - 8s 61ms/step - loss: 0.0014 - accuracy: 0.9997 - val_loss: 0.8227 - val_accuracy: 0.8447\n",
      "Epoch 23/50\n",
      "125/125 [==============================] - 7s 53ms/step - loss: 0.0012 - accuracy: 0.9995 - val_loss: 0.7352 - val_accuracy: 0.8617\n",
      "Epoch 24/50\n",
      "125/125 [==============================] - 6s 50ms/step - loss: 7.0843e-04 - accuracy: 1.0000 - val_loss: 0.8286 - val_accuracy: 0.8476\n",
      "Epoch 25/50\n",
      "125/125 [==============================] - 7s 52ms/step - loss: 6.3916e-04 - accuracy: 1.0000 - val_loss: 0.7774 - val_accuracy: 0.8570\n",
      "Epoch 26/50\n",
      "125/125 [==============================] - 6s 45ms/step - loss: 5.5932e-04 - accuracy: 1.0000 - val_loss: 0.8126 - val_accuracy: 0.8494\n",
      "Epoch 27/50\n",
      "125/125 [==============================] - 7s 54ms/step - loss: 8.3962e-04 - accuracy: 0.9997 - val_loss: 0.8028 - val_accuracy: 0.8593\n",
      "Epoch 28/50\n",
      "125/125 [==============================] - 7s 55ms/step - loss: 6.6172e-04 - accuracy: 1.0000 - val_loss: 0.8554 - val_accuracy: 0.8517\n",
      "Epoch 29/50\n",
      "125/125 [==============================] - 7s 56ms/step - loss: 3.8338e-04 - accuracy: 1.0000 - val_loss: 0.8384 - val_accuracy: 0.8576\n",
      "Epoch 30/50\n",
      "125/125 [==============================] - 6s 50ms/step - loss: 3.0847e-04 - accuracy: 1.0000 - val_loss: 0.8895 - val_accuracy: 0.8511\n",
      "Epoch 31/50\n",
      "125/125 [==============================] - 7s 53ms/step - loss: 3.0333e-04 - accuracy: 1.0000 - val_loss: 0.8817 - val_accuracy: 0.8505\n",
      "Epoch 32/50\n",
      " 15/125 [==>...........................] - ETA: 5s - loss: 3.3215e-04 - accuracy: 1.0000"
     ]
    },
    {
     "ename": "KeyboardInterrupt",
     "evalue": "",
     "output_type": "error",
     "traceback": [
      "\u001b[0;31m---------------------------------------------------------------------------\u001b[0m",
      "\u001b[0;31mKeyboardInterrupt\u001b[0m                         Traceback (most recent call last)",
      "\u001b[0;32m<ipython-input-20-a364885b2563>\u001b[0m in \u001b[0;36m<module>\u001b[0;34m\u001b[0m\n\u001b[1;32m     17\u001b[0m \u001b[0;34m\u001b[0m\u001b[0m\n\u001b[1;32m     18\u001b[0m \u001b[0;31m#calling function\u001b[0m\u001b[0;34m\u001b[0m\u001b[0;34m\u001b[0m\u001b[0;34m\u001b[0m\u001b[0m\n\u001b[0;32m---> 19\u001b[0;31m \u001b[0mmodel\u001b[0m \u001b[0;34m=\u001b[0m \u001b[0mtrain_model\u001b[0m\u001b[0;34m(\u001b[0m\u001b[0mmodel\u001b[0m\u001b[0;34m,\u001b[0m \u001b[0mtt_data\u001b[0m\u001b[0;34m=\u001b[0m\u001b[0mtt_data\u001b[0m\u001b[0;34m,\u001b[0m \u001b[0mepochs\u001b[0m\u001b[0;34m=\u001b[0m\u001b[0;36m50\u001b[0m\u001b[0;34m,\u001b[0m \u001b[0mbatch_size\u001b[0m\u001b[0;34m=\u001b[0m\u001b[0;36m32\u001b[0m\u001b[0;34m)\u001b[0m\u001b[0;34m\u001b[0m\u001b[0;34m\u001b[0m\u001b[0m\n\u001b[0m",
      "\u001b[0;32m<ipython-input-20-a364885b2563>\u001b[0m in \u001b[0;36mtrain_model\u001b[0;34m(model, tt_data, val_size, epochs, batch_size)\u001b[0m\n\u001b[1;32m     13\u001b[0m     \u001b[0my_train\u001b[0m \u001b[0;34m=\u001b[0m \u001b[0mtraining_labels\u001b[0m\u001b[0;34m[\u001b[0m\u001b[0mvals\u001b[0m\u001b[0;34m:\u001b[0m\u001b[0;34m]\u001b[0m\u001b[0;34m\u001b[0m\u001b[0;34m\u001b[0m\u001b[0m\n\u001b[1;32m     14\u001b[0m \u001b[0;34m\u001b[0m\u001b[0m\n\u001b[0;32m---> 15\u001b[0;31m     \u001b[0mfitModel\u001b[0m \u001b[0;34m=\u001b[0m \u001b[0mmodel\u001b[0m\u001b[0;34m.\u001b[0m\u001b[0mfit\u001b[0m\u001b[0;34m(\u001b[0m\u001b[0mx_train\u001b[0m\u001b[0;34m,\u001b[0m \u001b[0my_train\u001b[0m\u001b[0;34m,\u001b[0m \u001b[0mepochs\u001b[0m\u001b[0;34m=\u001b[0m\u001b[0mepochs\u001b[0m\u001b[0;34m,\u001b[0m \u001b[0mbatch_size\u001b[0m\u001b[0;34m=\u001b[0m\u001b[0mbatch_size\u001b[0m\u001b[0;34m,\u001b[0m \u001b[0mvalidation_data\u001b[0m\u001b[0;34m=\u001b[0m\u001b[0;34m(\u001b[0m\u001b[0mx_val\u001b[0m\u001b[0;34m,\u001b[0m \u001b[0my_val\u001b[0m\u001b[0;34m)\u001b[0m\u001b[0;34m,\u001b[0m \u001b[0mverbose\u001b[0m\u001b[0;34m=\u001b[0m\u001b[0;36m1\u001b[0m\u001b[0;34m,\u001b[0m \u001b[0mshuffle\u001b[0m\u001b[0;34m=\u001b[0m\u001b[0;32mTrue\u001b[0m\u001b[0;34m)\u001b[0m\u001b[0;34m\u001b[0m\u001b[0;34m\u001b[0m\u001b[0m\n\u001b[0m\u001b[1;32m     16\u001b[0m     \u001b[0mmodel_results\u001b[0m \u001b[0;34m=\u001b[0m \u001b[0mmodel\u001b[0m\u001b[0;34m.\u001b[0m\u001b[0mevaluate\u001b[0m\u001b[0;34m(\u001b[0m\u001b[0mtesting_data\u001b[0m\u001b[0;34m,\u001b[0m \u001b[0mtesting_labels\u001b[0m\u001b[0;34m)\u001b[0m\u001b[0;34m\u001b[0m\u001b[0;34m\u001b[0m\u001b[0m\n\u001b[1;32m     17\u001b[0m \u001b[0;34m\u001b[0m\u001b[0m\n",
      "\u001b[0;32m/usr/local/lib/python3.8/dist-packages/keras/utils/traceback_utils.py\u001b[0m in \u001b[0;36merror_handler\u001b[0;34m(*args, **kwargs)\u001b[0m\n\u001b[1;32m     62\u001b[0m     \u001b[0mfiltered_tb\u001b[0m \u001b[0;34m=\u001b[0m \u001b[0;32mNone\u001b[0m\u001b[0;34m\u001b[0m\u001b[0;34m\u001b[0m\u001b[0m\n\u001b[1;32m     63\u001b[0m     \u001b[0;32mtry\u001b[0m\u001b[0;34m:\u001b[0m\u001b[0;34m\u001b[0m\u001b[0;34m\u001b[0m\u001b[0m\n\u001b[0;32m---> 64\u001b[0;31m       \u001b[0;32mreturn\u001b[0m \u001b[0mfn\u001b[0m\u001b[0;34m(\u001b[0m\u001b[0;34m*\u001b[0m\u001b[0margs\u001b[0m\u001b[0;34m,\u001b[0m \u001b[0;34m**\u001b[0m\u001b[0mkwargs\u001b[0m\u001b[0;34m)\u001b[0m\u001b[0;34m\u001b[0m\u001b[0;34m\u001b[0m\u001b[0m\n\u001b[0m\u001b[1;32m     65\u001b[0m     \u001b[0;32mexcept\u001b[0m \u001b[0mException\u001b[0m \u001b[0;32mas\u001b[0m \u001b[0me\u001b[0m\u001b[0;34m:\u001b[0m  \u001b[0;31m# pylint: disable=broad-except\u001b[0m\u001b[0;34m\u001b[0m\u001b[0;34m\u001b[0m\u001b[0m\n\u001b[1;32m     66\u001b[0m       \u001b[0mfiltered_tb\u001b[0m \u001b[0;34m=\u001b[0m \u001b[0m_process_traceback_frames\u001b[0m\u001b[0;34m(\u001b[0m\u001b[0me\u001b[0m\u001b[0;34m.\u001b[0m\u001b[0m__traceback__\u001b[0m\u001b[0;34m)\u001b[0m\u001b[0;34m\u001b[0m\u001b[0;34m\u001b[0m\u001b[0m\n",
      "\u001b[0;32m/usr/local/lib/python3.8/dist-packages/keras/engine/training.py\u001b[0m in \u001b[0;36mfit\u001b[0;34m(self, x, y, batch_size, epochs, verbose, callbacks, validation_split, validation_data, shuffle, class_weight, sample_weight, initial_epoch, steps_per_epoch, validation_steps, validation_batch_size, validation_freq, max_queue_size, workers, use_multiprocessing)\u001b[0m\n\u001b[1;32m   1214\u001b[0m                 _r=1):\n\u001b[1;32m   1215\u001b[0m               \u001b[0mcallbacks\u001b[0m\u001b[0;34m.\u001b[0m\u001b[0mon_train_batch_begin\u001b[0m\u001b[0;34m(\u001b[0m\u001b[0mstep\u001b[0m\u001b[0;34m)\u001b[0m\u001b[0;34m\u001b[0m\u001b[0;34m\u001b[0m\u001b[0m\n\u001b[0;32m-> 1216\u001b[0;31m               \u001b[0mtmp_logs\u001b[0m \u001b[0;34m=\u001b[0m \u001b[0mself\u001b[0m\u001b[0;34m.\u001b[0m\u001b[0mtrain_function\u001b[0m\u001b[0;34m(\u001b[0m\u001b[0miterator\u001b[0m\u001b[0;34m)\u001b[0m\u001b[0;34m\u001b[0m\u001b[0;34m\u001b[0m\u001b[0m\n\u001b[0m\u001b[1;32m   1217\u001b[0m               \u001b[0;32mif\u001b[0m \u001b[0mdata_handler\u001b[0m\u001b[0;34m.\u001b[0m\u001b[0mshould_sync\u001b[0m\u001b[0;34m:\u001b[0m\u001b[0;34m\u001b[0m\u001b[0;34m\u001b[0m\u001b[0m\n\u001b[1;32m   1218\u001b[0m                 \u001b[0mcontext\u001b[0m\u001b[0;34m.\u001b[0m\u001b[0masync_wait\u001b[0m\u001b[0;34m(\u001b[0m\u001b[0;34m)\u001b[0m\u001b[0;34m\u001b[0m\u001b[0;34m\u001b[0m\u001b[0m\n",
      "\u001b[0;32m/usr/local/lib/python3.8/dist-packages/tensorflow/python/util/traceback_utils.py\u001b[0m in \u001b[0;36merror_handler\u001b[0;34m(*args, **kwargs)\u001b[0m\n\u001b[1;32m    148\u001b[0m     \u001b[0mfiltered_tb\u001b[0m \u001b[0;34m=\u001b[0m \u001b[0;32mNone\u001b[0m\u001b[0;34m\u001b[0m\u001b[0;34m\u001b[0m\u001b[0m\n\u001b[1;32m    149\u001b[0m     \u001b[0;32mtry\u001b[0m\u001b[0;34m:\u001b[0m\u001b[0;34m\u001b[0m\u001b[0;34m\u001b[0m\u001b[0m\n\u001b[0;32m--> 150\u001b[0;31m       \u001b[0;32mreturn\u001b[0m \u001b[0mfn\u001b[0m\u001b[0;34m(\u001b[0m\u001b[0;34m*\u001b[0m\u001b[0margs\u001b[0m\u001b[0;34m,\u001b[0m \u001b[0;34m**\u001b[0m\u001b[0mkwargs\u001b[0m\u001b[0;34m)\u001b[0m\u001b[0;34m\u001b[0m\u001b[0;34m\u001b[0m\u001b[0m\n\u001b[0m\u001b[1;32m    151\u001b[0m     \u001b[0;32mexcept\u001b[0m \u001b[0mException\u001b[0m \u001b[0;32mas\u001b[0m \u001b[0me\u001b[0m\u001b[0;34m:\u001b[0m\u001b[0;34m\u001b[0m\u001b[0;34m\u001b[0m\u001b[0m\n\u001b[1;32m    152\u001b[0m       \u001b[0mfiltered_tb\u001b[0m \u001b[0;34m=\u001b[0m \u001b[0m_process_traceback_frames\u001b[0m\u001b[0;34m(\u001b[0m\u001b[0me\u001b[0m\u001b[0;34m.\u001b[0m\u001b[0m__traceback__\u001b[0m\u001b[0;34m)\u001b[0m\u001b[0;34m\u001b[0m\u001b[0;34m\u001b[0m\u001b[0m\n",
      "\u001b[0;32m/usr/local/lib/python3.8/dist-packages/tensorflow/python/eager/def_function.py\u001b[0m in \u001b[0;36m__call__\u001b[0;34m(self, *args, **kwds)\u001b[0m\n\u001b[1;32m    908\u001b[0m \u001b[0;34m\u001b[0m\u001b[0m\n\u001b[1;32m    909\u001b[0m       \u001b[0;32mwith\u001b[0m \u001b[0mOptionalXlaContext\u001b[0m\u001b[0;34m(\u001b[0m\u001b[0mself\u001b[0m\u001b[0;34m.\u001b[0m\u001b[0m_jit_compile\u001b[0m\u001b[0;34m)\u001b[0m\u001b[0;34m:\u001b[0m\u001b[0;34m\u001b[0m\u001b[0;34m\u001b[0m\u001b[0m\n\u001b[0;32m--> 910\u001b[0;31m         \u001b[0mresult\u001b[0m \u001b[0;34m=\u001b[0m \u001b[0mself\u001b[0m\u001b[0;34m.\u001b[0m\u001b[0m_call\u001b[0m\u001b[0;34m(\u001b[0m\u001b[0;34m*\u001b[0m\u001b[0margs\u001b[0m\u001b[0;34m,\u001b[0m \u001b[0;34m**\u001b[0m\u001b[0mkwds\u001b[0m\u001b[0;34m)\u001b[0m\u001b[0;34m\u001b[0m\u001b[0;34m\u001b[0m\u001b[0m\n\u001b[0m\u001b[1;32m    911\u001b[0m \u001b[0;34m\u001b[0m\u001b[0m\n\u001b[1;32m    912\u001b[0m       \u001b[0mnew_tracing_count\u001b[0m \u001b[0;34m=\u001b[0m \u001b[0mself\u001b[0m\u001b[0;34m.\u001b[0m\u001b[0mexperimental_get_tracing_count\u001b[0m\u001b[0;34m(\u001b[0m\u001b[0;34m)\u001b[0m\u001b[0;34m\u001b[0m\u001b[0;34m\u001b[0m\u001b[0m\n",
      "\u001b[0;32m/usr/local/lib/python3.8/dist-packages/tensorflow/python/eager/def_function.py\u001b[0m in \u001b[0;36m_call\u001b[0;34m(self, *args, **kwds)\u001b[0m\n\u001b[1;32m    940\u001b[0m       \u001b[0;31m# In this case we have created variables on the first call, so we run the\u001b[0m\u001b[0;34m\u001b[0m\u001b[0;34m\u001b[0m\u001b[0;34m\u001b[0m\u001b[0m\n\u001b[1;32m    941\u001b[0m       \u001b[0;31m# defunned version which is guaranteed to never create variables.\u001b[0m\u001b[0;34m\u001b[0m\u001b[0;34m\u001b[0m\u001b[0;34m\u001b[0m\u001b[0m\n\u001b[0;32m--> 942\u001b[0;31m       \u001b[0;32mreturn\u001b[0m \u001b[0mself\u001b[0m\u001b[0;34m.\u001b[0m\u001b[0m_stateless_fn\u001b[0m\u001b[0;34m(\u001b[0m\u001b[0;34m*\u001b[0m\u001b[0margs\u001b[0m\u001b[0;34m,\u001b[0m \u001b[0;34m**\u001b[0m\u001b[0mkwds\u001b[0m\u001b[0;34m)\u001b[0m  \u001b[0;31m# pylint: disable=not-callable\u001b[0m\u001b[0;34m\u001b[0m\u001b[0;34m\u001b[0m\u001b[0m\n\u001b[0m\u001b[1;32m    943\u001b[0m     \u001b[0;32melif\u001b[0m \u001b[0mself\u001b[0m\u001b[0;34m.\u001b[0m\u001b[0m_stateful_fn\u001b[0m \u001b[0;32mis\u001b[0m \u001b[0;32mnot\u001b[0m \u001b[0;32mNone\u001b[0m\u001b[0;34m:\u001b[0m\u001b[0;34m\u001b[0m\u001b[0;34m\u001b[0m\u001b[0m\n\u001b[1;32m    944\u001b[0m       \u001b[0;31m# Release the lock early so that multiple threads can perform the call\u001b[0m\u001b[0;34m\u001b[0m\u001b[0;34m\u001b[0m\u001b[0;34m\u001b[0m\u001b[0m\n",
      "\u001b[0;32m/usr/local/lib/python3.8/dist-packages/tensorflow/python/eager/function.py\u001b[0m in \u001b[0;36m__call__\u001b[0;34m(self, *args, **kwargs)\u001b[0m\n\u001b[1;32m   3129\u001b[0m        filtered_flat_args) = self._maybe_define_function(args, kwargs)\n\u001b[1;32m   3130\u001b[0m     return graph_function._call_flat(\n\u001b[0;32m-> 3131\u001b[0;31m         filtered_flat_args, captured_inputs=graph_function.captured_inputs)  # pylint: disable=protected-access\n\u001b[0m\u001b[1;32m   3132\u001b[0m \u001b[0;34m\u001b[0m\u001b[0m\n\u001b[1;32m   3133\u001b[0m   \u001b[0;34m@\u001b[0m\u001b[0mproperty\u001b[0m\u001b[0;34m\u001b[0m\u001b[0;34m\u001b[0m\u001b[0m\n",
      "\u001b[0;32m/usr/local/lib/python3.8/dist-packages/tensorflow/python/eager/function.py\u001b[0m in \u001b[0;36mcaptured_inputs\u001b[0;34m(self)\u001b[0m\n\u001b[1;32m   2162\u001b[0m     \"\"\"\n\u001b[1;32m   2163\u001b[0m     return nest.flatten(\n\u001b[0;32m-> 2164\u001b[0;31m         \u001b[0;34m[\u001b[0m\u001b[0mx\u001b[0m\u001b[0;34m(\u001b[0m\u001b[0;34m)\u001b[0m \u001b[0;32mif\u001b[0m \u001b[0mcallable\u001b[0m\u001b[0;34m(\u001b[0m\u001b[0mx\u001b[0m\u001b[0;34m)\u001b[0m \u001b[0;32melse\u001b[0m \u001b[0mx\u001b[0m \u001b[0;32mfor\u001b[0m \u001b[0mx\u001b[0m \u001b[0;32min\u001b[0m \u001b[0mself\u001b[0m\u001b[0;34m.\u001b[0m\u001b[0m_captured_inputs\u001b[0m\u001b[0;34m]\u001b[0m\u001b[0;34m,\u001b[0m\u001b[0;34m\u001b[0m\u001b[0;34m\u001b[0m\u001b[0m\n\u001b[0m\u001b[1;32m   2165\u001b[0m         expand_composites=True)\n\u001b[1;32m   2166\u001b[0m \u001b[0;34m\u001b[0m\u001b[0m\n",
      "\u001b[0;32m/usr/local/lib/python3.8/dist-packages/tensorflow/python/eager/function.py\u001b[0m in \u001b[0;36m<listcomp>\u001b[0;34m(.0)\u001b[0m\n\u001b[1;32m   2162\u001b[0m     \"\"\"\n\u001b[1;32m   2163\u001b[0m     return nest.flatten(\n\u001b[0;32m-> 2164\u001b[0;31m         \u001b[0;34m[\u001b[0m\u001b[0mx\u001b[0m\u001b[0;34m(\u001b[0m\u001b[0;34m)\u001b[0m \u001b[0;32mif\u001b[0m \u001b[0mcallable\u001b[0m\u001b[0;34m(\u001b[0m\u001b[0mx\u001b[0m\u001b[0;34m)\u001b[0m \u001b[0;32melse\u001b[0m \u001b[0mx\u001b[0m \u001b[0;32mfor\u001b[0m \u001b[0mx\u001b[0m \u001b[0;32min\u001b[0m \u001b[0mself\u001b[0m\u001b[0;34m.\u001b[0m\u001b[0m_captured_inputs\u001b[0m\u001b[0;34m]\u001b[0m\u001b[0;34m,\u001b[0m\u001b[0;34m\u001b[0m\u001b[0;34m\u001b[0m\u001b[0m\n\u001b[0m\u001b[1;32m   2165\u001b[0m         expand_composites=True)\n\u001b[1;32m   2166\u001b[0m \u001b[0;34m\u001b[0m\u001b[0m\n",
      "\u001b[0;31mKeyboardInterrupt\u001b[0m: "
     ]
    }
   ],
   "source": [
    "#train model\n",
    "def train_model(model, tt_data, val_size=.3, epochs=1, batch_size=32):\n",
    "    vals = int(len(tt_data[0])*val_size)\n",
    "    training_data = tt_data[0]\n",
    "    training_labels = tt_data[1]\n",
    "    testing_data = tt_data[2]\n",
    "    testing_labels = tt_data[3]\n",
    "    \n",
    "    x_val = training_data[:vals]\n",
    "    x_train = training_data[vals:]\n",
    "    \n",
    "    y_val = training_labels[:vals]\n",
    "    y_train = training_labels[vals:]\n",
    "    \n",
    "    fitModel = model.fit(x_train, y_train, epochs=epochs, batch_size=batch_size, validation_data=(x_val, y_val), verbose=1, shuffle=True)\n",
    "    model_results = model.evaluate(testing_data, testing_labels)\n",
    "    \n",
    "#calling the function\n",
    "model = train_model(model, tt_data=tt_data, epochs=10, batch_size=32)"
   ]
  }
 ],
 "metadata": {
  "colab": {
   "collapsed_sections": [],
   "name": "it_or_not.ipynb",
   "provenance": []
  },
  "kernelspec": {
   "display_name": "Python 3",
   "language": "python",
   "name": "python3"
  },
  "language_info": {
   "codemirror_mode": {
    "name": "ipython",
    "version": 3
   },
   "file_extension": ".py",
   "mimetype": "text/x-python",
   "name": "python",
   "nbconvert_exporter": "python",
   "pygments_lexer": "ipython3",
   "version": "3.8.10"
  }
 },
 "nbformat": 4,
 "nbformat_minor": 1
}
