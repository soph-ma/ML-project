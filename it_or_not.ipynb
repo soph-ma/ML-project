{
 "cells": [
  {
   "cell_type": "code",
   "execution_count": 1,
   "metadata": {
    "id": "Hi-8gQJQx4up"
   },
   "outputs": [],
   "source": [
    "import pandas as pd\n",
    "import numpy as np\n",
    "import json\n",
    "import random\n",
    "import nltk\n",
    "from nltk.corpus import stopwords\n",
    "from keras.preprocessing.text import Tokenizer\n",
    "from keras.preprocessing.text import text_to_word_sequence\n",
    "from keras.layers import Dropout\n",
    "from tensorflow import keras\n",
    "from keras import preprocessing\n",
    "from keras import Model"
   ]
  },
  {
   "cell_type": "markdown",
   "metadata": {
    "id": "m-ULxSc9yRE4"
   },
   "source": [
    "# Uploading and preprocessing data"
   ]
  },
  {
   "cell_type": "code",
   "execution_count": 2,
   "metadata": {
    "id": "Ys57rtPFx4uw"
   },
   "outputs": [],
   "source": [
    "#lowercase and removing stopwords\n",
    "def get_data(filename):\n",
    "    with open(filename, 'r', encoding='unicode_escape') as f:\n",
    "        data = f.read()\n",
    "    data = data.lower()\n",
    "\n",
    "    nltk.download('stopwords')\n",
    "    stop_words = stopwords.words('english')\n",
    "    data = data.split()\n",
    "    data = [w for w in data if w not in stop_words]\n",
    "    data = \" \".join(data)\n",
    "\n",
    "    return(data)"
   ]
  },
  {
   "cell_type": "code",
   "execution_count": 3,
   "metadata": {
    "colab": {
     "base_uri": "https://localhost:8080/",
     "height": 103
    },
    "id": "DCMBP37F1rgu",
    "outputId": "0afe2a81-cc89-448c-f4af-c26fc5d84263"
   },
   "outputs": [
    {
     "name": "stderr",
     "output_type": "stream",
     "text": [
      "[nltk_data] Downloading package stopwords to /root/nltk_data...\n",
      "[nltk_data]   Unzipping corpora/stopwords.zip.\n",
      "[nltk_data] Downloading package stopwords to /root/nltk_data...\n",
      "[nltk_data]   Package stopwords is already up-to-date!\n"
     ]
    },
    {
     "data": {
      "text/plain": [
       "'reason java still re'"
      ]
     },
     "execution_count": 3,
     "metadata": {},
     "output_type": "execute_result"
    }
   ],
   "source": [
    "it_data = get_data('data/it_oriented.TXT')\n",
    "non_it_data = get_data('data/ordinary.TXT')\n",
    "all_data = it_data + non_it_data\n",
    "\n",
    "all_data[:20]"
   ]
  },
  {
   "cell_type": "code",
   "execution_count": 4,
   "metadata": {
    "id": "c-hK_Y1Ux4ux"
   },
   "outputs": [],
   "source": [
    "#creating word index\n",
    "def create_index(texts, filename):\n",
    "    words = texts.split() \n",
    "    \n",
    "    #there can be up to 50 000 words understood by our neural network\n",
    "    tokenizer = Tokenizer(num_words=50000) \n",
    "    \n",
    "    #we wil be tokenizing all of those words from the text files\n",
    "    tokenizer.fit_on_texts(words) \n",
    "    sequences = tokenizer.texts_to_sequences(words)\n",
    "    word_index = tokenizer.word_index\n",
    "\n",
    "    print(f\"Found {len(word_index)} unique words\") \n",
    "    \n",
    "    with open (filename, 'w') as f:\n",
    "        json.dump(word_index, f, indent=4)"
   ]
  },
  {
   "cell_type": "code",
   "execution_count": 5,
   "metadata": {
    "colab": {
     "base_uri": "https://localhost:8080/"
    },
    "id": "T9oM3Gp9x4ux",
    "outputId": "3ea26aac-68de-4ad2-9066-77a141625bb0",
    "scrolled": true
   },
   "outputs": [
    {
     "name": "stdout",
     "output_type": "stream",
     "text": [
      "Found 12121 unique words\n"
     ]
    }
   ],
   "source": [
    "create_index(all_data, 'word_index.json')"
   ]
  },
  {
   "cell_type": "code",
   "execution_count": 6,
   "metadata": {
    "id": "ErvVpCkl2rCc"
   },
   "outputs": [],
   "source": [
    "#grab and return word index\n",
    "def get_index(filename): #for opening that json file\n",
    "    with open(filename, 'r') as f:\n",
    "        data = json.load(f)\n",
    "    return(data)"
   ]
  },
  {
   "cell_type": "code",
   "execution_count": 7,
   "metadata": {
    "id": "Cn-RNon3287y"
   },
   "outputs": [],
   "source": [
    "word_index = get_index('word_index.json')"
   ]
  },
  {
   "cell_type": "code",
   "execution_count": 8,
   "metadata": {
    "id": "kgaxjl-s3peg"
   },
   "outputs": [],
   "source": [
    "#creating sentences\n",
    "def create_sents(text):\n",
    "    nltk.download('punkt')\n",
    "    sentences = nltk.tokenize.sent_tokenize(text)\n",
    "    return(sentences)"
   ]
  },
  {
   "cell_type": "code",
   "execution_count": 9,
   "metadata": {
    "colab": {
     "base_uri": "https://localhost:8080/",
     "height": 103
    },
    "id": "btdpcg7r4rFD",
    "outputId": "6461e664-f568-490e-d059-d4c086f4828f"
   },
   "outputs": [
    {
     "name": "stderr",
     "output_type": "stream",
     "text": [
      "[nltk_data] Downloading package punkt to /root/nltk_data...\n",
      "[nltk_data]   Unzipping tokenizers/punkt.zip.\n",
      "[nltk_data] Downloading package punkt to /root/nltk_data...\n",
      "[nltk_data]   Package punkt is already up-to-date!\n"
     ]
    },
    {
     "data": {
      "text/plain": [
       "'reason java still relevant shoved throats high schoolers college students.'"
      ]
     },
     "execution_count": 9,
     "metadata": {},
     "output_type": "execute_result"
    }
   ],
   "source": [
    "it_sents = create_sents(it_data)\n",
    "non_it_sents = create_sents(non_it_data)\n",
    "\n",
    "it_sents[0]"
   ]
  },
  {
   "cell_type": "code",
   "execution_count": 10,
   "metadata": {
    "id": "pEsJh3QH5BQM"
   },
   "outputs": [],
   "source": [
    "#padding\n",
    "def padding_data(sentences, index, maxlen=25):\n",
    "    new_sentences = []\n",
    "    for sentence in sentences:\n",
    "        #this will give us a sentence converted to numerical array\n",
    "        sentence = text_to_word_sequence(sentence) \n",
    "        new_sentence = []\n",
    "        words = []\n",
    "        for word in sentence:\n",
    "            try:\n",
    "                word = index[word]\n",
    "            except:\n",
    "                KeyError\n",
    "                #for unknown words we encounter:\n",
    "                word = 0 \n",
    "            words.append(word)\n",
    "        new_sentence.append(words)\n",
    "        new_sentence = preprocessing.sequence.pad_sequences(new_sentence, maxlen=maxlen, padding='post')\n",
    "        new_sentences.append(new_sentence[0])\n",
    "    return(new_sentences)"
   ]
  },
  {
   "cell_type": "code",
   "execution_count": 11,
   "metadata": {
    "colab": {
     "base_uri": "https://localhost:8080/"
    },
    "id": "heg9Cuu_5VkE",
    "outputId": "2b1a0607-3b54-4a92-f0bc-1d6a3e0612a9"
   },
   "outputs": [
    {
     "data": {
      "text/plain": [
       "array([ 359,  125,   79, 1165, 6041, 6042,  131, 6043,  849,  278,    0,\n",
       "          0,    0,    0,    0,    0,    0,    0,    0,    0,    0,    0,\n",
       "          0,    0,    0], dtype=int32)"
      ]
     },
     "execution_count": 11,
     "metadata": {},
     "output_type": "execute_result"
    }
   ],
   "source": [
    "it_padded = padding_data(it_sents, word_index, maxlen=25)\n",
    "non_it_padded = padding_data(non_it_sents, word_index, maxlen=25)\n",
    "\n",
    "it_padded[0]"
   ]
  },
  {
   "cell_type": "code",
   "execution_count": 12,
   "metadata": {
    "id": "F_DFuW4T5iR3"
   },
   "outputs": [],
   "source": [
    "#reverse word index\n",
    "def reverse_index(word_index):\n",
    "    reverse_word_index = {value: key for (key, value) in word_index.items()}\n",
    "    return(reverse_word_index)\n",
    "    \n",
    "def reconst_text(text, reverse_word_index):\n",
    "    return(\" \".join([reverse_word_index.get(i, \"?\") for i in text]))"
   ]
  },
  {
   "cell_type": "code",
   "execution_count": 13,
   "metadata": {
    "colab": {
     "base_uri": "https://localhost:8080/",
     "height": 35
    },
    "id": "2S0z_rKR5pYa",
    "outputId": "146cc325-406d-49db-efbe-f4bc36a026b7"
   },
   "outputs": [
    {
     "data": {
      "text/plain": [
       "'reason java still relevant shoved throats high schoolers college students ? ? ? ? ? ? ? ? ? ? ? ? ? ? ?'"
      ]
     },
     "execution_count": 13,
     "metadata": {},
     "output_type": "execute_result"
    }
   ],
   "source": [
    "reverse_word_index = reverse_index(word_index)\n",
    "\n",
    "reconst_text(it_padded[0], reverse_word_index)"
   ]
  },
  {
   "cell_type": "markdown",
   "metadata": {
    "id": "VTckgQd16Uj6"
   },
   "source": [
    "# Labelling Data"
   ]
  },
  {
   "cell_type": "code",
   "execution_count": 14,
   "metadata": {
    "id": "R_tHRdoQ6YM_"
   },
   "outputs": [],
   "source": [
    "def label_data(sentences, label):\n",
    "    total_chunks = []\n",
    "    for sentence in sentences:\n",
    "        #in form of a tuple that consists of a list of numbers and a label\n",
    "        total_chunks.append((sentence, label)) \n",
    "    return(total_chunks)"
   ]
  },
  {
   "cell_type": "code",
   "execution_count": 15,
   "metadata": {
    "colab": {
     "base_uri": "https://localhost:8080/"
    },
    "id": "B_bOcrKp6Y4i",
    "outputId": "b89c7f65-c61c-4315-d4a8-7d0a84b081e6"
   },
   "outputs": [
    {
     "data": {
      "text/plain": [
       "(array([2779, 1803, 8427, 8428,  464, 5199, 1641,  649, 5200, 5201,  393,\n",
       "           0,    0,    0,    0,    0,    0,    0,    0,    0,    0,    0,\n",
       "           0,    0,    0], dtype=int32),\n",
       " 0)"
      ]
     },
     "execution_count": 15,
     "metadata": {},
     "output_type": "execute_result"
    }
   ],
   "source": [
    "non_it_labelled = label_data(non_it_padded, 0)\n",
    "it_labelled = label_data(it_padded, 1)\n",
    "\n",
    "non_it_labelled[0]"
   ]
  },
  {
   "cell_type": "markdown",
   "metadata": {
    "id": "YtJOimlU6s8n"
   },
   "source": [
    "# Creating Training Data"
   ]
  },
  {
   "cell_type": "code",
   "execution_count": 16,
   "metadata": {
    "id": "um4s9iOa6xlf"
   },
   "outputs": [],
   "source": [
    "def create_training(total_chunks, cutoff):\n",
    "    random.shuffle(total_chunks)\n",
    "    training_data = []\n",
    "    training_labels = []\n",
    "    testing_data = []\n",
    "    testing_labels = []\n",
    "    test_num = len(total_chunks) * cutoff\n",
    "    x = 0\n",
    "    \n",
    "    for entry in total_chunks:\n",
    "        if x > test_num:\n",
    "            testing_data.append(entry[0])\n",
    "            testing_labels.append(entry[1])\n",
    "        else:\n",
    "            training_data.append(entry[0])\n",
    "            training_labels.append(entry[1])\n",
    "        x = x + 1\n",
    "\n",
    "    #we are converting all that into a numpy array\n",
    "    training_data = np.array(training_data) \n",
    "    training_labels = np.array(training_labels)\n",
    "    testing_data = np.array(testing_data)\n",
    "    testing_labels = np.array(testing_labels)\n",
    "    \n",
    "    return(training_data, training_labels, testing_data, testing_labels)"
   ]
  },
  {
   "cell_type": "code",
   "execution_count": 17,
   "metadata": {
    "id": "W-uuP8nV6-ar"
   },
   "outputs": [],
   "source": [
    "all_data = it_labelled + non_it_labelled\n",
    "tt_data = create_training(all_data, cutoff = 0.8)"
   ]
  },
  {
   "cell_type": "code",
   "execution_count": 18,
   "metadata": {
    "colab": {
     "base_uri": "https://localhost:8080/"
    },
    "id": "rCdDYiXlrKlR",
    "outputId": "76032249-915c-451d-89f9-33a92e57a349"
   },
   "outputs": [
    {
     "data": {
      "text/plain": [
       "(array([[ 5090,  3922,  1663, ...,     0,     0,     0],\n",
       "        [    9,    55,  1601, ...,     0,     0,     0],\n",
       "        [ 2722,  2977,   448, ..., 11564,    63,   322],\n",
       "        ...,\n",
       "        [ 7614,   805,   377, ...,     0,     0,     0],\n",
       "        [  494,    16,   111, ...,     0,     0,     0],\n",
       "        [  346,  4942,  1401, ...,     0,     0,     0]], dtype=int32),\n",
       " array([1, 1, 0, ..., 1, 0, 1]),\n",
       " array([[  397,    68,     1, ...,     0,     0,     0],\n",
       "        [   58, 10453,   890, ...,     0,     0,     0],\n",
       "        [12112,   857,  1830, ...,     0,     0,     0],\n",
       "        ...,\n",
       "        [ 8429,  8430,  8431, ...,     0,     0,     0],\n",
       "        [ 1796,  2836,  3087, ...,     0,     0,     0],\n",
       "        [ 1451,     0,     0, ...,     0,     0,     0]], dtype=int32),\n",
       " array([1, 0, 0, ..., 0, 1, 0]))"
      ]
     },
     "execution_count": 18,
     "metadata": {},
     "output_type": "execute_result"
    }
   ],
   "source": [
    "tt_data"
   ]
  },
  {
   "cell_type": "code",
   "execution_count": 19,
   "metadata": {
    "colab": {
     "base_uri": "https://localhost:8080/"
    },
    "id": "z1qmWiEErKlT",
    "outputId": "66975b52-a9e8-4ef2-b0d4-466c23991620"
   },
   "outputs": [
    {
     "name": "stdout",
     "output_type": "stream",
     "text": [
      "Model: \"sequential\"\n",
      "_________________________________________________________________\n",
      " Layer (type)                Output Shape              Param #   \n",
      "=================================================================\n",
      " embedding (Embedding)       (None, None, 25)          500000    \n",
      "                                                                 \n",
      " global_average_pooling1d (G  (None, 25)               0         \n",
      " lobalAveragePooling1D)                                          \n",
      "                                                                 \n",
      " dense (Dense)               (None, 32)                832       \n",
      "                                                                 \n",
      " dropout (Dropout)           (None, 32)                0         \n",
      "                                                                 \n",
      " dense_1 (Dense)             (None, 32)                1056      \n",
      "                                                                 \n",
      " dropout_1 (Dropout)         (None, 32)                0         \n",
      "                                                                 \n",
      " dense_2 (Dense)             (None, 16)                528       \n",
      "                                                                 \n",
      " dropout_2 (Dropout)         (None, 16)                0         \n",
      "                                                                 \n",
      " dense_3 (Dense)             (None, 1)                 17        \n",
      "                                                                 \n",
      "=================================================================\n",
      "Total params: 502,433\n",
      "Trainable params: 502,433\n",
      "Non-trainable params: 0\n",
      "_________________________________________________________________\n"
     ]
    }
   ],
   "source": [
    "#create model\n",
    "def create_model():\n",
    "    model = keras.Sequential()\n",
    "    model.add(keras.layers.Embedding(20000, 25))\n",
    "    model.add(keras.layers.GlobalAveragePooling1D())\n",
    "    model.add(keras.layers.Dense(32, activation='relu'))\n",
    "    model.add(Dropout(0.1))\n",
    "    model.add(keras.layers.Dense(32, activation='relu'))\n",
    "    model.add(Dropout(0.1))\n",
    "    model.add(keras.layers.Dense(16, activation='tanh'))\n",
    "    model.add(Dropout(0.1))\n",
    "    model.add(keras.layers.Dense(1, activation='sigmoid'))\n",
    "    model.summary()\n",
    "    model.compile(optimizer='adam', loss='squared_hinge', metrics=['accuracy'])\n",
    "    return(model)\n",
    "\n",
    "#calling the function\n",
    "model = create_model()"
   ]
  },
  {
   "cell_type": "code",
   "execution_count": 20,
   "metadata": {
    "colab": {
     "base_uri": "https://localhost:8080/"
    },
    "id": "KVv6pUVzrKlU",
    "outputId": "c5756d39-b3eb-4b29-acfa-415865c1de07"
   },
   "outputs": [
    {
     "name": "stdout",
     "output_type": "stream",
     "text": [
      "Epoch 1/5\n",
      "160/160 [==============================] - 6s 23ms/step - loss: 1.0399 - accuracy: 0.5137 - val_loss: 0.9486 - val_accuracy: 0.5176\n",
      "Epoch 2/5\n",
      "160/160 [==============================] - 3s 22ms/step - loss: 0.7345 - accuracy: 0.7893 - val_loss: 0.7047 - val_accuracy: 0.8873\n",
      "Epoch 3/5\n",
      "160/160 [==============================] - 3s 19ms/step - loss: 0.5949 - accuracy: 0.9260 - val_loss: 0.6717 - val_accuracy: 0.8539\n",
      "Epoch 4/5\n",
      "160/160 [==============================] - 3s 17ms/step - loss: 0.5692 - accuracy: 0.9498 - val_loss: 0.6712 - val_accuracy: 0.8820\n",
      "Epoch 5/5\n",
      "160/160 [==============================] - 3s 16ms/step - loss: 0.5499 - accuracy: 0.9672 - val_loss: 0.6805 - val_accuracy: 0.8873\n",
      "45/45 [==============================] - 0s 5ms/step - loss: 0.6674 - accuracy: 0.8811\n",
      "INFO:tensorflow:Assets written to: models/it_or_not.model/assets\n"
     ]
    }
   ],
   "source": [
    "#train model\n",
    "def train_model(model, tt_data, val_size=.1, epochs=1, batch_size=32):\n",
    "    vals = int(len(tt_data[0])*val_size)\n",
    "    training_data = tt_data[0]\n",
    "    training_labels = tt_data[1]\n",
    "    testing_data = tt_data[2]\n",
    "    testing_labels = tt_data[3]\n",
    "    \n",
    "    x_val = training_data[:vals]\n",
    "    x_train = training_data[vals:]\n",
    "    \n",
    "    y_val = training_labels[:vals]\n",
    "    y_train = training_labels[vals:]\n",
    "    \n",
    "    fitModel = model.fit(x_train, y_train, epochs=epochs, batch_size=batch_size, validation_data=(x_val, y_val), verbose=1, shuffle=True)\n",
    "    model_results = model.evaluate(testing_data, testing_labels)\n",
    "    return model\n",
    "    \n",
    "#calling the function\n",
    "model = train_model(model, tt_data=tt_data, epochs=5, batch_size=32)\n",
    "model.save('models/it_or_not.model')\n",
    "model = keras.models.load_model('models/it_or_not.model')\n"
   ]
  },
  {
   "cell_type": "markdown",
   "metadata": {
    "id": "klT5iRnz8PwA"
   },
   "source": [
    "# Test model"
   ]
  },
  {
   "cell_type": "code",
   "execution_count": 21,
   "metadata": {
    "colab": {
     "base_uri": "https://localhost:8080/",
     "height": 819
    },
    "id": "SHrlFyTm8T0H",
    "outputId": "3d1ec683-fd56-43d9-a88d-3530c7029ceb"
   },
   "outputs": [
    {
     "name": "stdout",
     "output_type": "stream",
     "text": [
      "WARNING:tensorflow:Model was constructed with shape (None, None) for input KerasTensor(type_spec=TensorSpec(shape=(None, None), dtype=tf.float32, name='embedding_input'), name='embedding_input', description=\"created by layer 'embedding_input'\"), but it was called on an input with incompatible shape (None,).\n"
     ]
    },
    {
     "name": "stderr",
     "output_type": "stream",
     "text": [
      "[nltk_data] Downloading package punkt to /root/nltk_data...\n",
      "[nltk_data]   Package punkt is already up-to-date!\n"
     ]
    },
    {
     "ename": "ValueError",
     "evalue": "in user code:\n\n    File \"/usr/local/lib/python3.8/dist-packages/keras/engine/training.py\", line 1621, in predict_function  *\n        return step_function(self, iterator)\n    File \"/usr/local/lib/python3.8/dist-packages/keras/engine/training.py\", line 1611, in step_function  **\n        outputs = model.distribute_strategy.run(run_step, args=(data,))\n    File \"/usr/local/lib/python3.8/dist-packages/keras/engine/training.py\", line 1604, in run_step  **\n        outputs = model.predict_step(data)\n    File \"/usr/local/lib/python3.8/dist-packages/keras/engine/training.py\", line 1572, in predict_step\n        return self(x, training=False)\n    File \"/usr/local/lib/python3.8/dist-packages/keras/utils/traceback_utils.py\", line 67, in error_handler\n        raise e.with_traceback(filtered_tb) from None\n    File \"/usr/local/lib/python3.8/dist-packages/keras/engine/input_spec.py\", line 213, in assert_input_compatibility\n        raise ValueError(f'Input {input_index} of layer \"{layer_name}\" '\n\n    ValueError: Exception encountered when calling layer \"sequential\" (type Sequential).\n    \n    Input 0 of layer \"global_average_pooling1d\" is incompatible with the layer: expected ndim=3, found ndim=2. Full shape received: (None, 25)\n    \n    Call arguments received:\n      • inputs=('tf.Tensor(shape=(None,), dtype=int32)',)\n      • training=False\n      • mask=None\n",
     "output_type": "error",
     "traceback": [
      "\u001b[0;31m---------------------------------------------------------------------------\u001b[0m",
      "\u001b[0;31mValueError\u001b[0m                                Traceback (most recent call last)",
      "\u001b[0;32m<ipython-input-21-d2c403f8c9b8>\u001b[0m in \u001b[0;36m<module>\u001b[0;34m\u001b[0m\n\u001b[1;32m      9\u001b[0m \u001b[0mprepared_sent\u001b[0m \u001b[0;34m=\u001b[0m \u001b[0mprepare\u001b[0m\u001b[0;34m(\u001b[0m\u001b[0mt_sent\u001b[0m\u001b[0;34m)\u001b[0m\u001b[0;34m\u001b[0m\u001b[0;34m\u001b[0m\u001b[0m\n\u001b[1;32m     10\u001b[0m \u001b[0;34m\u001b[0m\u001b[0m\n\u001b[0;32m---> 11\u001b[0;31m \u001b[0mprediction\u001b[0m \u001b[0;34m=\u001b[0m \u001b[0mmodel\u001b[0m\u001b[0;34m.\u001b[0m\u001b[0mpredict\u001b[0m\u001b[0;34m(\u001b[0m\u001b[0mprepared_sent\u001b[0m\u001b[0;34m)\u001b[0m\u001b[0;34m\u001b[0m\u001b[0;34m\u001b[0m\u001b[0m\n\u001b[0m\u001b[1;32m     12\u001b[0m \u001b[0mprint\u001b[0m\u001b[0;34m(\u001b[0m\u001b[0mprediction\u001b[0m\u001b[0;34m)\u001b[0m\u001b[0;34m\u001b[0m\u001b[0;34m\u001b[0m\u001b[0m\n\u001b[1;32m     13\u001b[0m \u001b[0;34m\u001b[0m\u001b[0m\n",
      "\u001b[0;32m/usr/local/lib/python3.8/dist-packages/keras/utils/traceback_utils.py\u001b[0m in \u001b[0;36merror_handler\u001b[0;34m(*args, **kwargs)\u001b[0m\n\u001b[1;32m     65\u001b[0m     \u001b[0;32mexcept\u001b[0m \u001b[0mException\u001b[0m \u001b[0;32mas\u001b[0m \u001b[0me\u001b[0m\u001b[0;34m:\u001b[0m  \u001b[0;31m# pylint: disable=broad-except\u001b[0m\u001b[0;34m\u001b[0m\u001b[0;34m\u001b[0m\u001b[0m\n\u001b[1;32m     66\u001b[0m       \u001b[0mfiltered_tb\u001b[0m \u001b[0;34m=\u001b[0m \u001b[0m_process_traceback_frames\u001b[0m\u001b[0;34m(\u001b[0m\u001b[0me\u001b[0m\u001b[0;34m.\u001b[0m\u001b[0m__traceback__\u001b[0m\u001b[0;34m)\u001b[0m\u001b[0;34m\u001b[0m\u001b[0;34m\u001b[0m\u001b[0m\n\u001b[0;32m---> 67\u001b[0;31m       \u001b[0;32mraise\u001b[0m \u001b[0me\u001b[0m\u001b[0;34m.\u001b[0m\u001b[0mwith_traceback\u001b[0m\u001b[0;34m(\u001b[0m\u001b[0mfiltered_tb\u001b[0m\u001b[0;34m)\u001b[0m \u001b[0;32mfrom\u001b[0m \u001b[0;32mNone\u001b[0m\u001b[0;34m\u001b[0m\u001b[0;34m\u001b[0m\u001b[0m\n\u001b[0m\u001b[1;32m     68\u001b[0m     \u001b[0;32mfinally\u001b[0m\u001b[0;34m:\u001b[0m\u001b[0;34m\u001b[0m\u001b[0;34m\u001b[0m\u001b[0m\n\u001b[1;32m     69\u001b[0m       \u001b[0;32mdel\u001b[0m \u001b[0mfiltered_tb\u001b[0m\u001b[0;34m\u001b[0m\u001b[0;34m\u001b[0m\u001b[0m\n",
      "\u001b[0;32m/usr/local/lib/python3.8/dist-packages/tensorflow/python/framework/func_graph.py\u001b[0m in \u001b[0;36mautograph_handler\u001b[0;34m(*args, **kwargs)\u001b[0m\n\u001b[1;32m   1127\u001b[0m           \u001b[0;32mexcept\u001b[0m \u001b[0mException\u001b[0m \u001b[0;32mas\u001b[0m \u001b[0me\u001b[0m\u001b[0;34m:\u001b[0m  \u001b[0;31m# pylint:disable=broad-except\u001b[0m\u001b[0;34m\u001b[0m\u001b[0;34m\u001b[0m\u001b[0m\n\u001b[1;32m   1128\u001b[0m             \u001b[0;32mif\u001b[0m \u001b[0mhasattr\u001b[0m\u001b[0;34m(\u001b[0m\u001b[0me\u001b[0m\u001b[0;34m,\u001b[0m \u001b[0;34m\"ag_error_metadata\"\u001b[0m\u001b[0;34m)\u001b[0m\u001b[0;34m:\u001b[0m\u001b[0;34m\u001b[0m\u001b[0;34m\u001b[0m\u001b[0m\n\u001b[0;32m-> 1129\u001b[0;31m               \u001b[0;32mraise\u001b[0m \u001b[0me\u001b[0m\u001b[0;34m.\u001b[0m\u001b[0mag_error_metadata\u001b[0m\u001b[0;34m.\u001b[0m\u001b[0mto_exception\u001b[0m\u001b[0;34m(\u001b[0m\u001b[0me\u001b[0m\u001b[0;34m)\u001b[0m\u001b[0;34m\u001b[0m\u001b[0;34m\u001b[0m\u001b[0m\n\u001b[0m\u001b[1;32m   1130\u001b[0m             \u001b[0;32melse\u001b[0m\u001b[0;34m:\u001b[0m\u001b[0;34m\u001b[0m\u001b[0;34m\u001b[0m\u001b[0m\n\u001b[1;32m   1131\u001b[0m               \u001b[0;32mraise\u001b[0m\u001b[0;34m\u001b[0m\u001b[0;34m\u001b[0m\u001b[0m\n",
      "\u001b[0;31mValueError\u001b[0m: in user code:\n\n    File \"/usr/local/lib/python3.8/dist-packages/keras/engine/training.py\", line 1621, in predict_function  *\n        return step_function(self, iterator)\n    File \"/usr/local/lib/python3.8/dist-packages/keras/engine/training.py\", line 1611, in step_function  **\n        outputs = model.distribute_strategy.run(run_step, args=(data,))\n    File \"/usr/local/lib/python3.8/dist-packages/keras/engine/training.py\", line 1604, in run_step  **\n        outputs = model.predict_step(data)\n    File \"/usr/local/lib/python3.8/dist-packages/keras/engine/training.py\", line 1572, in predict_step\n        return self(x, training=False)\n    File \"/usr/local/lib/python3.8/dist-packages/keras/utils/traceback_utils.py\", line 67, in error_handler\n        raise e.with_traceback(filtered_tb) from None\n    File \"/usr/local/lib/python3.8/dist-packages/keras/engine/input_spec.py\", line 213, in assert_input_compatibility\n        raise ValueError(f'Input {input_index} of layer \"{layer_name}\" '\n\n    ValueError: Exception encountered when calling layer \"sequential\" (type Sequential).\n    \n    Input 0 of layer \"global_average_pooling1d\" is incompatible with the layer: expected ndim=3, found ndim=2. Full shape received: (None, 25)\n    \n    Call arguments received:\n      • inputs=('tf.Tensor(shape=(None,), dtype=int32)',)\n      • training=False\n      • mask=None\n"
     ]
    }
   ],
   "source": [
    "def prepare(sent):\n",
    "  prep_sent = [w.lower for w in sent if w not in stopwords.words('english')] #opening, removing stopwords and making lowercase\n",
    "  prep_sent = str(prep_sent)\n",
    "  test_sent = create_sents(prep_sent) #turning into num arrays\n",
    "  test_padded = padding_data(test_sent, word_index, maxlen=25)\n",
    "  return test_padded\n",
    "\n",
    "t_sent = \"Machine learning (ML) is the study of computer algorithms that can improve automatically through experience and by the use of data.\"\n",
    "prepared_sent = prepare(t_sent)\n",
    "\n",
    "prediction = model.predict(prepared_sent)\n",
    "print(prediction)\n",
    "\n",
    "\n",
    " "
   ]
  }
 ],
 "metadata": {
  "accelerator": "GPU",
  "colab": {
   "collapsed_sections": [],
   "name": "it_or_not.ipynb",
   "provenance": []
  },
  "kernelspec": {
   "display_name": "Python 3",
   "language": "python",
   "name": "python3"
  },
  "language_info": {
   "codemirror_mode": {
    "name": "ipython",
    "version": 3
   },
   "file_extension": ".py",
   "mimetype": "text/x-python",
   "name": "python",
   "nbconvert_exporter": "python",
   "pygments_lexer": "ipython3",
   "version": "3.8.10"
  }
 },
 "nbformat": 4,
 "nbformat_minor": 1
}
