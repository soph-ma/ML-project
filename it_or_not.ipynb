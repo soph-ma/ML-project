{
 "cells": [
  {
   "cell_type": "code",
   "execution_count": 1,
   "metadata": {
    "id": "Hi-8gQJQx4up"
   },
   "outputs": [],
   "source": [
    "import pandas as pd\n",
    "import numpy as np\n",
    "import json\n",
    "import random\n",
    "import nltk\n",
    "from nltk.corpus import stopwords\n",
    "from keras.preprocessing.text import Tokenizer\n",
    "from keras.preprocessing.text import text_to_word_sequence\n",
    "from tensorflow import keras\n",
    "from keras import preprocessing"
   ]
  },
  {
   "cell_type": "markdown",
   "metadata": {
    "id": "m-ULxSc9yRE4"
   },
   "source": [
    "# Uploading and preprocessing data"
   ]
  },
  {
   "cell_type": "code",
   "execution_count": 2,
   "metadata": {
    "id": "Ys57rtPFx4uw"
   },
   "outputs": [],
   "source": [
    "#lowercase and removing stopwords\n",
    "def get_data(filename):\n",
    "    with open(filename, 'r', encoding='unicode_escape') as f:\n",
    "        data = f.read()\n",
    "    data = data.lower()\n",
    "\n",
    "    nltk.download('stopwords')\n",
    "    stop_words = stopwords.words('english')\n",
    "    data = data.split()\n",
    "    data = [w for w in data if w not in stop_words]\n",
    "    data = \" \".join(data)\n",
    "\n",
    "    return(data)"
   ]
  },
  {
   "cell_type": "code",
   "execution_count": 3,
   "metadata": {
    "colab": {
     "base_uri": "https://localhost:8080/",
     "height": 103
    },
    "id": "DCMBP37F1rgu",
    "outputId": "a4b2fe97-8b49-4401-b490-10bb346be095"
   },
   "outputs": [
    {
     "name": "stderr",
     "output_type": "stream",
     "text": [
      "[nltk_data] Downloading package stopwords to /root/nltk_data...\n",
      "[nltk_data]   Package stopwords is already up-to-date!\n",
      "[nltk_data] Downloading package stopwords to /root/nltk_data...\n",
      "[nltk_data]   Package stopwords is already up-to-date!\n"
     ]
    },
    {
     "data": {
      "text/plain": [
       "'reason java still re'"
      ]
     },
     "execution_count": 3,
     "metadata": {},
     "output_type": "execute_result"
    }
   ],
   "source": [
    "it_data = get_data('data/it_oriented.TXT')\n",
    "non_it_data = get_data('data/ordinary.TXT')\n",
    "all_data = it_data + non_it_data\n",
    "\n",
    "all_data[:20]"
   ]
  },
  {
   "cell_type": "code",
   "execution_count": 4,
   "metadata": {
    "id": "c-hK_Y1Ux4ux"
   },
   "outputs": [],
   "source": [
    "#creating word index\n",
    "def create_index(texts, filename):\n",
    "    words = texts.split() \n",
    "    \n",
    "    #there can be up to 50 000 words understood by our neural network\n",
    "    tokenizer = Tokenizer(num_words=50000) \n",
    "    \n",
    "    #we wil be tokenizing all of those words from the text files\n",
    "    tokenizer.fit_on_texts(words) \n",
    "    sequences = tokenizer.texts_to_sequences(words)\n",
    "    word_index = tokenizer.word_index\n",
    "\n",
    "    print(f\"Found {len(word_index)} unique words\") \n",
    "    \n",
    "    with open (filename, 'w') as f:\n",
    "        json.dump(word_index, f, indent=4)"
   ]
  },
  {
   "cell_type": "code",
   "execution_count": 5,
   "metadata": {
    "id": "T9oM3Gp9x4ux",
    "scrolled": true
   },
   "outputs": [
    {
     "name": "stdout",
     "output_type": "stream",
     "text": [
      "Found 12121 unique words\n"
     ]
    }
   ],
   "source": [
    "create_index(all_data, 'word_index.json')"
   ]
  },
  {
   "cell_type": "code",
   "execution_count": 6,
   "metadata": {
    "id": "ErvVpCkl2rCc"
   },
   "outputs": [],
   "source": [
    "#grab and return word index\n",
    "def get_index(filename): #for opening that json file\n",
    "    with open(filename, 'r') as f:\n",
    "        data = json.load(f)\n",
    "    return(data)"
   ]
  },
  {
   "cell_type": "code",
   "execution_count": 7,
   "metadata": {
    "id": "Cn-RNon3287y"
   },
   "outputs": [],
   "source": [
    "word_index = get_index('word_index.json')"
   ]
  },
  {
   "cell_type": "code",
   "execution_count": 8,
   "metadata": {
    "id": "kgaxjl-s3peg"
   },
   "outputs": [],
   "source": [
    "#creating sentences\n",
    "def create_sents(text):\n",
    "    nltk.download('punkt')\n",
    "    sentences = nltk.tokenize.sent_tokenize(text)\n",
    "    return(sentences)"
   ]
  },
  {
   "cell_type": "code",
   "execution_count": 9,
   "metadata": {
    "id": "btdpcg7r4rFD"
   },
   "outputs": [
    {
     "name": "stderr",
     "output_type": "stream",
     "text": [
      "[nltk_data] Downloading package punkt to /root/nltk_data...\n",
      "[nltk_data]   Package punkt is already up-to-date!\n",
      "[nltk_data] Downloading package punkt to /root/nltk_data...\n",
      "[nltk_data]   Package punkt is already up-to-date!\n"
     ]
    },
    {
     "data": {
      "text/plain": [
       "'reason java still relevant shoved throats high schoolers college students.'"
      ]
     },
     "execution_count": 9,
     "metadata": {},
     "output_type": "execute_result"
    }
   ],
   "source": [
    "it_sents = create_sents(it_data)\n",
    "non_it_sents = create_sents(non_it_data)\n",
    "\n",
    "it_sents[0]"
   ]
  },
  {
   "cell_type": "code",
   "execution_count": 10,
   "metadata": {
    "id": "pEsJh3QH5BQM"
   },
   "outputs": [],
   "source": [
    "#padding\n",
    "def padding_data(sentences, index, maxlen=25):\n",
    "    new_sentences = []\n",
    "    for sentence in sentences:\n",
    "        #this will give us a sentence converted to numerical array\n",
    "        sentence = text_to_word_sequence(sentence) \n",
    "        new_sentence = []\n",
    "        words = []\n",
    "        for word in sentence:\n",
    "            try:\n",
    "                word = index[word]\n",
    "            except:\n",
    "                KeyError\n",
    "                #for unknown words we encounter:\n",
    "                word = 0 \n",
    "            words.append(word)\n",
    "        new_sentence.append(words)\n",
    "        new_sentence = preprocessing.sequence.pad_sequences(new_sentence, maxlen=maxlen, padding='post')\n",
    "        new_sentences.append(new_sentence[0])\n",
    "    return(new_sentences)"
   ]
  },
  {
   "cell_type": "code",
   "execution_count": 11,
   "metadata": {
    "colab": {
     "base_uri": "https://localhost:8080/"
    },
    "id": "heg9Cuu_5VkE",
    "outputId": "b67b2a6e-f52d-479c-f81c-3d4ad88347b3"
   },
   "outputs": [
    {
     "data": {
      "text/plain": [
       "array([ 359,  125,   79, 1165, 6041, 6042,  131, 6043,  849,  278,    0,\n",
       "          0,    0,    0,    0,    0,    0,    0,    0,    0,    0,    0,\n",
       "          0,    0,    0], dtype=int32)"
      ]
     },
     "execution_count": 11,
     "metadata": {},
     "output_type": "execute_result"
    }
   ],
   "source": [
    "it_padded = padding_data(it_sents, word_index, maxlen=25)\n",
    "non_it_padded = padding_data(non_it_sents, word_index, maxlen=25)\n",
    "\n",
    "it_padded[0]"
   ]
  },
  {
   "cell_type": "code",
   "execution_count": 12,
   "metadata": {
    "id": "F_DFuW4T5iR3"
   },
   "outputs": [],
   "source": [
    "#reverse word index\n",
    "#def reverse_index(word_index):\n",
    " #   reverse_word_index = {value: key for (key, value) in word_index.items()}\n",
    "  #  return(reverse_word_index)\n",
    "    \n",
    "#def reconst_text(text, reverse_word_index):\n",
    " #   return(\" \".join([reverse_word_index.get(i, \"?\") for i in text]))"
   ]
  },
  {
   "cell_type": "code",
   "execution_count": 13,
   "metadata": {
    "colab": {
     "base_uri": "https://localhost:8080/",
     "height": 35
    },
    "id": "2S0z_rKR5pYa",
    "outputId": "e64e65af-306f-4fdf-97a1-02ebeae32d99"
   },
   "outputs": [],
   "source": [
    "#reverse_word_index = reverse_index(word_index)\n",
    "\n",
    "#reconst_text(it_padded[0], reverse_word_index)"
   ]
  },
  {
   "cell_type": "markdown",
   "metadata": {
    "id": "VTckgQd16Uj6"
   },
   "source": [
    "# Labelling Data"
   ]
  },
  {
   "cell_type": "code",
   "execution_count": 14,
   "metadata": {
    "id": "R_tHRdoQ6YM_"
   },
   "outputs": [],
   "source": [
    "def label_data(sentences, label):\n",
    "    total_chunks = []\n",
    "    for sentence in sentences:\n",
    "        #in form of a tuple that consists of a list of numbers and a label\n",
    "        total_chunks.append((sentence, label)) \n",
    "    return(total_chunks)"
   ]
  },
  {
   "cell_type": "code",
   "execution_count": 15,
   "metadata": {
    "colab": {
     "base_uri": "https://localhost:8080/"
    },
    "id": "B_bOcrKp6Y4i",
    "outputId": "f5e1487f-8b90-4301-9045-0ca63fffe872"
   },
   "outputs": [
    {
     "data": {
      "text/plain": [
       "(array([2779, 1803, 8427, 8428,  464, 5199, 1641,  649, 5200, 5201,  393,\n",
       "           0,    0,    0,    0,    0,    0,    0,    0,    0,    0,    0,\n",
       "           0,    0,    0], dtype=int32),\n",
       " 0)"
      ]
     },
     "execution_count": 15,
     "metadata": {},
     "output_type": "execute_result"
    }
   ],
   "source": [
    "non_it_labelled = label_data(non_it_padded, 0)\n",
    "it_labelled = label_data(it_padded, 1)\n",
    "\n",
    "non_it_labelled[0]"
   ]
  },
  {
   "cell_type": "markdown",
   "metadata": {
    "id": "YtJOimlU6s8n"
   },
   "source": [
    "# Creating Training Data"
   ]
  },
  {
   "cell_type": "code",
   "execution_count": 16,
   "metadata": {
    "id": "um4s9iOa6xlf"
   },
   "outputs": [],
   "source": [
    "def create_training(total_chunks, cutoff):\n",
    "    random.shuffle(total_chunks)\n",
    "    training_data = []\n",
    "    training_labels = []\n",
    "    testing_data = []\n",
    "    testing_labels = []\n",
    "    test_num = len(total_chunks) * cutoff\n",
    "    x = 0\n",
    "    \n",
    "    for entry in total_chunks:\n",
    "        if x > test_num:\n",
    "            testing_data.append(entry[0])\n",
    "            testing_labels.append(entry[1])\n",
    "        else:\n",
    "            training_data.append(entry[0])\n",
    "            training_labels.append(entry[1])\n",
    "        x = x + 1\n",
    "\n",
    "    #we are converting all that into a numpy array\n",
    "    training_data = np.array(training_data) \n",
    "    training_labels = np.array(training_labels)\n",
    "    testing_data = np.array(testing_data)\n",
    "    testing_labels = np.array(testing_labels)\n",
    "    \n",
    "    return(training_data, training_labels, testing_data, testing_labels)"
   ]
  },
  {
   "cell_type": "code",
   "execution_count": 17,
   "metadata": {
    "colab": {
     "base_uri": "https://localhost:8080/"
    },
    "id": "W-uuP8nV6-ar",
    "outputId": "678a6f7d-e59e-429d-f265-5896ead3dab0"
   },
   "outputs": [],
   "source": [
    "all_data = it_labelled + non_it_labelled\n",
    "tt_data = create_training(all_data, cutoff = 0.8)"
   ]
  },
  {
   "cell_type": "code",
   "execution_count": 18,
   "metadata": {},
   "outputs": [
    {
     "data": {
      "text/plain": [
       "(array([[  37, 4144,  302, ...,    0,    0,    0],\n",
       "        [ 142,  462,   34, ...,    0,    0,    0],\n",
       "        [1656, 1891, 1551, ...,    0,    0,    0],\n",
       "        ...,\n",
       "        [ 956,   91, 8093, ...,    0,    0,    0],\n",
       "        [ 748,    7,    4, ...,    0,    0,    0],\n",
       "        [ 302, 1077,  271, ...,    0,    0,    0]], dtype=int32),\n",
       " array([0, 1, 1, ..., 1, 1, 0]),\n",
       " array([[  189,   171,    99, ...,     0,     0,     0],\n",
       "        [ 3139,   229,   268, ...,     0,     0,     0],\n",
       "        [ 1859,   128,   655, ...,    46,  1567, 11833],\n",
       "        ...,\n",
       "        [  381,     2,   653, ...,     0,     0,     0],\n",
       "        [ 1096,     0,     0, ...,     0,     0,     0],\n",
       "        [  276,  1240,    82, ...,     0,     0,     0]], dtype=int32),\n",
       " array([0, 0, 0, ..., 0, 1, 1]))"
      ]
     },
     "execution_count": 18,
     "metadata": {},
     "output_type": "execute_result"
    }
   ],
   "source": [
    "tt_data"
   ]
  },
  {
   "cell_type": "code",
   "execution_count": 19,
   "metadata": {},
   "outputs": [
    {
     "name": "stdout",
     "output_type": "stream",
     "text": [
      "Model: \"sequential\"\n",
      "_________________________________________________________________\n",
      " Layer (type)                Output Shape              Param #   \n",
      "=================================================================\n",
      " embedding (Embedding)       (None, None, 25)          500000    \n",
      "                                                                 \n",
      " global_average_pooling1d (G  (None, 25)               0         \n",
      " lobalAveragePooling1D)                                          \n",
      "                                                                 \n",
      " dense (Dense)               (None, 16)                416       \n",
      "                                                                 \n",
      " dense_1 (Dense)             (None, 16)                272       \n",
      "                                                                 \n",
      " dense_2 (Dense)             (None, 1)                 17        \n",
      "                                                                 \n",
      "=================================================================\n",
      "Total params: 500,705\n",
      "Trainable params: 500,705\n",
      "Non-trainable params: 0\n",
      "_________________________________________________________________\n"
     ]
    }
   ],
   "source": [
    "#create model\n",
    "def create_model():\n",
    "    model = keras.Sequential()\n",
    "    model.add(keras.layers.Embedding(20000, 25))\n",
    "    model.add(keras.layers.GlobalAveragePooling1D())\n",
    "    model.add(keras.layers.Dense(16, activation='relu'))\n",
    "    model.add(keras.layers.Dense(16, activation='tanh'))\n",
    "    model.add(keras.layers.Dense(1, activation='sigmoid'))\n",
    "    model.summary()\n",
    "    model.compile(optimizer='adam', loss='binary_crossentropy', metrics=['accuracy'])\n",
    "    return(model)\n",
    "\n",
    "#calling the function\n",
    "model = create_model()"
   ]
  },
  {
   "cell_type": "code",
   "execution_count": 20,
   "metadata": {},
   "outputs": [
    {
     "name": "stdout",
     "output_type": "stream",
     "text": [
      "Epoch 1/10\n",
      "125/125 [==============================] - 17s 73ms/step - loss: 0.6744 - accuracy: 0.5987 - val_loss: 0.6153 - val_accuracy: 0.8441\n",
      "Epoch 2/10\n",
      "125/125 [==============================] - 7s 54ms/step - loss: 0.4033 - accuracy: 0.8812 - val_loss: 0.3113 - val_accuracy: 0.8810\n",
      "Epoch 3/10\n",
      "125/125 [==============================] - 6s 51ms/step - loss: 0.1590 - accuracy: 0.9473 - val_loss: 0.2776 - val_accuracy: 0.8775\n",
      "Epoch 4/10\n",
      "125/125 [==============================] - 7s 54ms/step - loss: 0.0902 - accuracy: 0.9696 - val_loss: 0.3052 - val_accuracy: 0.8816\n",
      "Epoch 5/10\n",
      "125/125 [==============================] - 6s 50ms/step - loss: 0.0555 - accuracy: 0.9827 - val_loss: 0.3268 - val_accuracy: 0.8705\n",
      "Epoch 6/10\n",
      "125/125 [==============================] - 6s 51ms/step - loss: 0.0399 - accuracy: 0.9859 - val_loss: 0.3589 - val_accuracy: 0.8787\n",
      "Epoch 7/10\n",
      "125/125 [==============================] - 6s 48ms/step - loss: 0.0291 - accuracy: 0.9902 - val_loss: 0.3830 - val_accuracy: 0.8716\n",
      "Epoch 8/10\n",
      "125/125 [==============================] - 6s 49ms/step - loss: 0.0233 - accuracy: 0.9920 - val_loss: 0.4290 - val_accuracy: 0.8751\n",
      "Epoch 9/10\n",
      "125/125 [==============================] - 7s 53ms/step - loss: 0.0193 - accuracy: 0.9930 - val_loss: 0.4468 - val_accuracy: 0.8710\n",
      "Epoch 10/10\n",
      "125/125 [==============================] - 7s 54ms/step - loss: 0.0153 - accuracy: 0.9947 - val_loss: 0.4771 - val_accuracy: 0.8716\n",
      "45/45 [==============================] - 1s 16ms/step - loss: 0.3998 - accuracy: 0.8846\n"
     ]
    }
   ],
   "source": [
    "#train model\n",
    "def train_model(model, tt_data, val_size=.3, epochs=1, batch_size=32):\n",
    "    vals = int(len(tt_data[0])*val_size)\n",
    "    training_data = tt_data[0]\n",
    "    training_labels = tt_data[1]\n",
    "    testing_data = tt_data[2]\n",
    "    testing_labels = tt_data[3]\n",
    "    \n",
    "    x_val = training_data[:vals]\n",
    "    x_train = training_data[vals:]\n",
    "    \n",
    "    y_val = training_labels[:vals]\n",
    "    y_train = training_labels[vals:]\n",
    "    \n",
    "    fitModel = model.fit(x_train, y_train, epochs=epochs, batch_size=batch_size, validation_data=(x_val, y_val), verbose=1, shuffle=True)\n",
    "    model_results = model.evaluate(testing_data, testing_labels)\n",
    "    \n",
    "#calling the function\n",
    "model = train_model(model, tt_data=tt_data, epochs=10, batch_size=32)"
   ]
  }
 ],
 "metadata": {
  "colab": {
   "collapsed_sections": [],
   "name": "it_or_not.ipynb",
   "provenance": []
  },
  "kernelspec": {
   "display_name": "Python 3",
   "language": "python",
   "name": "python3"
  },
  "language_info": {
   "codemirror_mode": {
    "name": "ipython",
    "version": 3
   },
   "file_extension": ".py",
   "mimetype": "text/x-python",
   "name": "python",
   "nbconvert_exporter": "python",
   "pygments_lexer": "ipython3",
   "version": "3.8.10"
  }
 },
 "nbformat": 4,
 "nbformat_minor": 1
}
