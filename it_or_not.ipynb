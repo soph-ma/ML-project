{
  "nbformat": 4,
  "nbformat_minor": 0,
  "metadata": {
    "kernelspec": {
      "display_name": "Python 3",
      "language": "python",
      "name": "python3"
    },
    "language_info": {
      "codemirror_mode": {
        "name": "ipython",
        "version": 3
      },
      "file_extension": ".py",
      "mimetype": "text/x-python",
      "name": "python",
      "nbconvert_exporter": "python",
      "pygments_lexer": "ipython3",
      "version": "3.8.10"
    },
    "colab": {
      "name": "it_or_not.ipynb",
      "provenance": [],
      "collapsed_sections": []
    }
  },
  "cells": [
    {
      "cell_type": "code",
      "metadata": {
        "id": "Hi-8gQJQx4up"
      },
      "source": [
        "import pandas as pd\n",
        "import numpy as np\n",
        "import json\n",
        "import random\n",
        "import nltk\n",
        "from nltk.corpus import stopwords\n",
        "from keras.preprocessing.text import Tokenizer\n",
        "from keras.preprocessing.text import text_to_word_sequence\n",
        "from tensorflow import keras\n",
        "from keras import preprocessing"
      ],
      "execution_count": null,
      "outputs": []
    },
    {
      "cell_type": "markdown",
      "metadata": {
        "id": "m-ULxSc9yRE4"
      },
      "source": [
        "# Uploading and preprocessing data"
      ]
    },
    {
      "cell_type": "code",
      "metadata": {
        "id": "Ys57rtPFx4uw"
      },
      "source": [
        "#lowercase and removing stopwords\n",
        "def get_data(filename):\n",
        "    with open(filename, 'r', encoding='unicode_escape') as f:\n",
        "        data = f.read()\n",
        "    data = data.lower()\n",
        "\n",
        "    nltk.download('stopwords')\n",
        "    stop_words = stopwords.words('english')\n",
        "    data = data.split()\n",
        "    data = [w for w in data if w not in stop_words]\n",
        "    data = \" \".join(data)\n",
        "\n",
        "    return(data)"
      ],
      "execution_count": null,
      "outputs": []
    },
    {
      "cell_type": "code",
      "metadata": {
        "colab": {
          "base_uri": "https://localhost:8080/",
          "height": 103
        },
        "id": "DCMBP37F1rgu",
        "outputId": "a4b2fe97-8b49-4401-b490-10bb346be095"
      },
      "source": [
        "it_data = get_data('it_oriented.TXT')\n",
        "non_it_data = get_data('ordinary.TXT')\n",
        "all_data = it_data + non_it_data\n",
        "\n",
        "all_data[:20]"
      ],
      "execution_count": null,
      "outputs": [
        {
          "output_type": "stream",
          "name": "stdout",
          "text": [
            "[nltk_data] Downloading package stopwords to /root/nltk_data...\n",
            "[nltk_data]   Package stopwords is already up-to-date!\n",
            "[nltk_data] Downloading package stopwords to /root/nltk_data...\n",
            "[nltk_data]   Package stopwords is already up-to-date!\n"
          ]
        },
        {
          "output_type": "execute_result",
          "data": {
            "application/vnd.google.colaboratory.intrinsic+json": {
              "type": "string"
            },
            "text/plain": [
              "'reason java still re'"
            ]
          },
          "metadata": {},
          "execution_count": 87
        }
      ]
    },
    {
      "cell_type": "code",
      "metadata": {
        "id": "c-hK_Y1Ux4ux"
      },
      "source": [
        "#creating word index\n",
        "def create_index(texts, filename):\n",
        "    words = texts.split() \n",
        "    \n",
        "    #there can be up to 10 000 words understood by our neural network\n",
        "    tokenizer = Tokenizer(num_words=10000) \n",
        "    \n",
        "    #we are tokenizing all of those words from the text files\n",
        "    tokenizer.fit_on_texts(words) \n",
        "    sequences = tokenizer.texts_to_sequences(words)\n",
        "    word_index = tokenizer.word_index\n",
        "\n",
        "    #print(f\"Found {len(word_index)} unique words.\") \n",
        "    \n",
        "    with open (filename, 'w') as f:\n",
        "        json.dump(word_index, f, indent=4)"
      ],
      "execution_count": null,
      "outputs": []
    },
    {
      "cell_type": "code",
      "metadata": {
        "id": "T9oM3Gp9x4ux"
      },
      "source": [
        "create_index(all_data, 'word_index.json')"
      ],
      "execution_count": null,
      "outputs": []
    },
    {
      "cell_type": "code",
      "metadata": {
        "id": "ErvVpCkl2rCc"
      },
      "source": [
        "#grab and return word index\n",
        "def get_index(filename): #for opening that json file\n",
        "    with open(filename, 'r') as f:\n",
        "        data = json.load(f)\n",
        "    return(data)"
      ],
      "execution_count": null,
      "outputs": []
    },
    {
      "cell_type": "code",
      "metadata": {
        "id": "Cn-RNon3287y"
      },
      "source": [
        "word_index = get_index('word_index.json')"
      ],
      "execution_count": null,
      "outputs": []
    },
    {
      "cell_type": "code",
      "metadata": {
        "id": "kgaxjl-s3peg"
      },
      "source": [
        "#creating sentences\n",
        "def create_sents(text):\n",
        "    nltk.download('punkt')\n",
        "    sentences = nltk.tokenize.sent_tokenize(text)\n",
        "    return(sentences)"
      ],
      "execution_count": null,
      "outputs": []
    },
    {
      "cell_type": "code",
      "metadata": {
        "id": "btdpcg7r4rFD"
      },
      "source": [
        "it_sents = create_sents(it_data)\n",
        "non_it_sents = create_sents(non_it_data)\n",
        "\n",
        "it_sents[0]"
      ],
      "execution_count": null,
      "outputs": []
    },
    {
      "cell_type": "code",
      "metadata": {
        "id": "pEsJh3QH5BQM"
      },
      "source": [
        "#padding\n",
        "def padding_data(sentences, index, maxlen=25):\n",
        "    new_sentences = []\n",
        "    for sentence in sentences:\n",
        "        #this will give us a sentence converted to numerical array\n",
        "        sentence = text_to_word_sequence(sentence) \n",
        "        new_sentence = []\n",
        "        words = []\n",
        "        for word in sentence:\n",
        "            try:\n",
        "                word = index[word]\n",
        "            except:\n",
        "                KeyError\n",
        "                #for unknown words we encounter:\n",
        "                word = 0 \n",
        "            words.append(word)\n",
        "        new_sentence.append(words)\n",
        "        new_sentence = preprocessing.sequence.pad_sequences(new_sentence, maxlen=maxlen, padding='post')\n",
        "        new_sentences.append(new_sentence[0])\n",
        "    return(new_sentences)"
      ],
      "execution_count": null,
      "outputs": []
    },
    {
      "cell_type": "code",
      "metadata": {
        "colab": {
          "base_uri": "https://localhost:8080/"
        },
        "id": "heg9Cuu_5VkE",
        "outputId": "b67b2a6e-f52d-479c-f81c-3d4ad88347b3"
      },
      "source": [
        "it_padded = padding_data(it_sents, word_index, maxlen=25)\n",
        "non_it_padded = padding_data(non_it_sents, word_index, maxlen=25)\n",
        "\n",
        "it_padded[0]"
      ],
      "execution_count": null,
      "outputs": [
        {
          "output_type": "execute_result",
          "data": {
            "text/plain": [
              "array([ 331,  166,   67,  998, 3896, 3897,   98, 3898,  763,  365,    0,\n",
              "          0,    0,    0,    0,    0,    0,    0,    0,    0,    0,    0,\n",
              "          0,    0,    0], dtype=int32)"
            ]
          },
          "metadata": {},
          "execution_count": 95
        }
      ]
    },
    {
      "cell_type": "code",
      "metadata": {
        "id": "F_DFuW4T5iR3"
      },
      "source": [
        "#reverse word index\n",
        "def reverse_index(word_index):\n",
        "    reverse_word_index = {value: key for (key, value) in word_index.items()}\n",
        "    return(reverse_word_index)\n",
        "    \n",
        "def reconst_text(text, reverse_word_index):\n",
        "    return(\" \".join([reverse_word_index.get(i, \"?\") for i in text]))"
      ],
      "execution_count": null,
      "outputs": []
    },
    {
      "cell_type": "code",
      "metadata": {
        "colab": {
          "base_uri": "https://localhost:8080/",
          "height": 35
        },
        "id": "2S0z_rKR5pYa",
        "outputId": "e64e65af-306f-4fdf-97a1-02ebeae32d99"
      },
      "source": [
        "reverse_word_index = reverse_index(word_index)\n",
        "\n",
        "reconst_text(it_padded[0], reverse_word_index)"
      ],
      "execution_count": null,
      "outputs": [
        {
          "output_type": "execute_result",
          "data": {
            "application/vnd.google.colaboratory.intrinsic+json": {
              "type": "string"
            },
            "text/plain": [
              "'reason java still relevant shoved throats high schoolers college students ? ? ? ? ? ? ? ? ? ? ? ? ? ? ?'"
            ]
          },
          "metadata": {},
          "execution_count": 97
        }
      ]
    },
    {
      "cell_type": "markdown",
      "metadata": {
        "id": "VTckgQd16Uj6"
      },
      "source": [
        "# Labelling Data"
      ]
    },
    {
      "cell_type": "code",
      "metadata": {
        "id": "R_tHRdoQ6YM_"
      },
      "source": [
        "def label_data(sentences, label):\n",
        "    total_chunks = []\n",
        "    for sentence in sentences:\n",
        "        #in form of a tuple that consists of a list of numbers and a label\n",
        "        total_chunks.append((sentence, label)) \n",
        "    return(total_chunks)"
      ],
      "execution_count": null,
      "outputs": []
    },
    {
      "cell_type": "code",
      "metadata": {
        "colab": {
          "base_uri": "https://localhost:8080/"
        },
        "id": "B_bOcrKp6Y4i",
        "outputId": "f5e1487f-8b90-4301-9045-0ca63fffe872"
      },
      "source": [
        "non_it_labelled = label_data(non_it_padded, 0)\n",
        "it_labelled = label_data(it_padded, 1)\n",
        "\n",
        "non_it_labelled[0]"
      ],
      "execution_count": null,
      "outputs": [
        {
          "output_type": "execute_result",
          "data": {
            "text/plain": [
              "(array([2070, 1527, 5745, 5746,  304, 5747,  986,  501, 5748, 3376,  137,\n",
              "           0,    0,    0,    0,    0,    0,    0,    0,    0,    0,    0,\n",
              "           0,    0,    0], dtype=int32), 0)"
            ]
          },
          "metadata": {},
          "execution_count": 99
        }
      ]
    },
    {
      "cell_type": "markdown",
      "metadata": {
        "id": "YtJOimlU6s8n"
      },
      "source": [
        "# Creating Training Data"
      ]
    },
    {
      "cell_type": "code",
      "metadata": {
        "id": "um4s9iOa6xlf"
      },
      "source": [
        "def create_training(total_chunks, cutoff):\n",
        "    random.shuffle(total_chunks)\n",
        "    training_data = []\n",
        "    training_labels = []\n",
        "    testing_data = []\n",
        "    testing_labels = []\n",
        "    test_num = len(total_chunks) * cutoff\n",
        "    x = 0\n",
        "    \n",
        "    for entry in total_chunks:\n",
        "        if x > test_num:\n",
        "            testing_data.append(entry[0])\n",
        "            testing_labels.append(entry[1])\n",
        "        else:\n",
        "            training_data.append(entry[0])\n",
        "            training_labels.append(entry[0])\n",
        "        x = x + 1\n",
        "\n",
        "    #we are converting all that into a numpy array\n",
        "    training_data = np.array(training_data) \n",
        "    training_labels = np.array(training_labels)\n",
        "    testing_data = np.array(testing_data)\n",
        "    testing_labels = np.array(testing_labels)\n",
        "    \n",
        "    return(training_data, training_labels, testing_data, testing_labels)"
      ],
      "execution_count": null,
      "outputs": []
    },
    {
      "cell_type": "code",
      "metadata": {
        "colab": {
          "base_uri": "https://localhost:8080/"
        },
        "id": "W-uuP8nV6-ar",
        "outputId": "678a6f7d-e59e-429d-f265-5896ead3dab0"
      },
      "source": [
        "all_data = it_labelled + non_it_labelled\n",
        "tt_data = create_training(all_data, cutoff = 0.5)\n",
        "\n",
        "#why only 4??????\n",
        "print(len(all_data))\n",
        "print(len(tt_data))"
      ],
      "execution_count": null,
      "outputs": [
        {
          "output_type": "stream",
          "name": "stdout",
          "text": [
            "3566\n",
            "4\n"
          ]
        }
      ]
    }
  ]
}