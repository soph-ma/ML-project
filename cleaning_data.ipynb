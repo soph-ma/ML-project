{
  "nbformat": 4,
  "nbformat_minor": 0,
  "metadata": {
    "colab": {
      "name": "cleaning_data.ipynb",
      "provenance": [],
      "collapsed_sections": [],
      "authorship_tag": "ABX9TyNCEDsuINnrFvMfRiXJ/nHm",
      "include_colab_link": true
    },
    "kernelspec": {
      "name": "python3",
      "display_name": "Python 3"
    },
    "language_info": {
      "name": "python"
    }
  },
  "cells": [
    {
      "cell_type": "markdown",
      "metadata": {
        "id": "view-in-github",
        "colab_type": "text"
      },
      "source": [
        "<a href=\"https://colab.research.google.com/github/soph-ma/ML-project/blob/main/cleaning_data.ipynb\" target=\"_parent\"><img src=\"https://colab.research.google.com/assets/colab-badge.svg\" alt=\"Open In Colab\"/></a>"
      ]
    },
    {
      "cell_type": "markdown",
      "source": [
        "I'm going to create a ML-model which will generate verse in the style of Ukrainian folk songs. First and foremost, I need to clean my data (remove unnecessary symbols). **This code will look into each txt file in each subfolder on Google Drive, remove unnecessary symbols and overwrite these files with clean text.**"
      ],
      "metadata": {
        "id": "nvCD4DxnwQHp"
      }
    },
    {
      "cell_type": "code",
      "source": [
        "import os, glob\n",
        "import re"
      ],
      "metadata": {
        "id": "OelIVtPLzm8v"
      },
      "execution_count": 16,
      "outputs": []
    },
    {
      "cell_type": "code",
      "execution_count": 17,
      "metadata": {
        "id": "U_sYagnzmdLt",
        "colab": {
          "base_uri": "https://localhost:8080/"
        },
        "outputId": "2134ac06-8b40-4763-913a-a72dc145acc3"
      },
      "outputs": [
        {
          "output_type": "stream",
          "name": "stdout",
          "text": [
            "Drive already mounted at /content/gdrive; to attempt to forcibly remount, call drive.mount(\"/content/gdrive\", force_remount=True).\n"
          ]
        }
      ],
      "source": [
        "from google.colab import drive\n",
        "drive.mount('/content/gdrive')\n",
        "\n",
        "root_path = 'gdrive/My Drive/ukr_folk/'  # my folder with data on Google Drive"
      ]
    },
    {
      "cell_type": "markdown",
      "source": [
        "# Defining what we want to remove from the text\n",
        "In the texts of Ukrainian folksongs, we have lines like \"Приспів\" which means \"chorus\" in English. Such lines are unnecessary for ML-models and should not be seen while training. I remove them.\n",
        "\n",
        "On the website where I found the texts of the songs, there are a lot of symbols in the text like \")\" or \"2)\". I remove them either."
      ],
      "metadata": {
        "id": "p-gjGRyQvdeu"
      }
    },
    {
      "cell_type": "code",
      "source": [
        "chorus = \"Приспів\" # Ukrainian word for \"chorus\"\n",
        "trash1 = '([0-9])\\)'\n",
        "trash2 = '('\n",
        "symbols = \"@#&[{}]/*\"\n",
        "symbols = [s for s in symbols]"
      ],
      "metadata": {
        "id": "m0hNcwdNvkyB"
      },
      "execution_count": 45,
      "outputs": []
    },
    {
      "cell_type": "markdown",
      "source": [
        "# Function for turning lst into str\n",
        "will be used further"
      ],
      "metadata": {
        "id": "X1LIsRiMxvl1"
      }
    },
    {
      "cell_type": "code",
      "source": [
        "def list_to_string(lst1):\n",
        "    str1 = \"\"\n",
        "    return (str1.join(lst1))"
      ],
      "metadata": {
        "id": "YiS70jRGx9hK"
      },
      "execution_count": 34,
      "outputs": []
    },
    {
      "cell_type": "markdown",
      "source": [
        "# Function for cleaning text"
      ],
      "metadata": {
        "id": "3Z2zvnIzyEQ3"
      }
    },
    {
      "cell_type": "code",
      "source": [
        "def access_dir(rootdir): \n",
        "    print(\"Unnecessary symbols in files:\")                               \n",
        "    for file in os.listdir(rootdir): \n",
        "        d = os.path.join(rootdir, file)                      # make a list of subfolders\n",
        "        filenames = []                                       # list of files with other unnecessary symbols\n",
        "\n",
        "        for filename in glob.glob(os.path.join(d, '*.txt')): # access files in each subfolder\n",
        "\n",
        "          try:                                                \n",
        "            f_hand = open(filename, \"r+\", encoding=\"utf-8\") \n",
        "            content = f_hand.readlines()                     # turn each line into a dict element\n",
        "            new_content = []                                 # this will contain clean text                          \n",
        "\n",
        "            for line in content:\n",
        "                    \n",
        "                    for sign in line:                        # check for files which may contain other trash for further manual removal\n",
        "                      if sign in symbols:\n",
        "                        print(filename)\n",
        "              \n",
        "\n",
        "                    if line == \"\\n\" or chorus in line:       # we don't want any empty lines or lines with \"chorus\"           \n",
        "                        continue\n",
        "                    elif re.search(trash1, line):            # remove trash                  \n",
        "                        line = re.sub(trash1, '', line)\n",
        "                        new_content.append(line) \n",
        "                    elif re.search(trash2, line):\n",
        "                        line = re.sub(trash2, '', line)\n",
        "                        new_content.append(line)                  \n",
        "                    else:\n",
        "                        new_content.append(line)\n",
        "            new_content = list_to_string(new_content)        \n",
        "\n",
        "            with open(filename, \"w\") as f:                   # overwrite a file                     \n",
        "                      f.write(new_content) \n",
        "          except:         \n",
        "            continue"
      ],
      "metadata": {
        "id": "HQINdCp9yRNW"
      },
      "execution_count": 46,
      "outputs": []
    },
    {
      "cell_type": "markdown",
      "source": [
        "# Calling the function\n"
      ],
      "metadata": {
        "id": "P7oVAi3t0m8I"
      }
    },
    {
      "cell_type": "code",
      "source": [
        "access_dir(root_path)"
      ],
      "metadata": {
        "id": "TdExcko20sLS",
        "colab": {
          "base_uri": "https://localhost:8080/"
        },
        "outputId": "682b4784-230f-4407-dc10-d5aa26ec6838"
      },
      "execution_count": 47,
      "outputs": [
        {
          "output_type": "stream",
          "name": "stdout",
          "text": [
            "Unnecessary symbols in files:\n",
            "gdrive/My Drive/ukr_folk/soldier/7.txt\n",
            "gdrive/My Drive/ukr_folk/wedding/6.txt\n",
            "gdrive/My Drive/ukr_folk/wedding/18.txt\n",
            "gdrive/My Drive/ukr_folk/povstanski/6.txt\n",
            "gdrive/My Drive/ukr_folk/nursery_rhymes/2.txt\n",
            "gdrive/My Drive/ukr_folk/nursery_rhymes/3.txt\n",
            "gdrive/My Drive/ukr_folk/nursery_rhymes/3.txt\n",
            "gdrive/My Drive/ukr_folk/nursery_rhymes/5.txt\n",
            "gdrive/My Drive/ukr_folk/nursery_rhymes/5.txt\n",
            "gdrive/My Drive/ukr_folk/nursery_rhymes/7.txt\n",
            "gdrive/My Drive/ukr_folk/vesnianky/3.txt\n",
            "gdrive/My Drive/ukr_folk/vesnianky/4.txt\n",
            "gdrive/My Drive/ukr_folk/kupalski/5.txt\n",
            "gdrive/My Drive/ukr_folk/kupalski/7.txt\n"
          ]
        }
      ]
    }
  ]
}