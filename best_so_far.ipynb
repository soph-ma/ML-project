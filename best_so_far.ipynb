{
  "nbformat": 4,
  "nbformat_minor": 0,
  "metadata": {
    "colab": {
      "name": "it_or_not.ipynb",
      "provenance": [],
      "collapsed_sections": []
    },
    "kernelspec": {
      "display_name": "Python 3",
      "language": "python",
      "name": "python3"
    },
    "language_info": {
      "codemirror_mode": {
        "name": "ipython",
        "version": 3
      },
      "file_extension": ".py",
      "mimetype": "text/x-python",
      "name": "python",
      "nbconvert_exporter": "python",
      "pygments_lexer": "ipython3",
      "version": "3.8.10"
    }
  },
  "cells": [
    {
      "cell_type": "code",
      "metadata": {
        "id": "Hi-8gQJQx4up"
      },
      "source": [
        "import pandas as pd\n",
        "import numpy as np\n",
        "import json\n",
        "import random\n",
        "import nltk\n",
        "from nltk.corpus import stopwords\n",
        "from keras.preprocessing.text import Tokenizer\n",
        "from keras.preprocessing.text import text_to_word_sequence\n",
        "from keras.layers import Dropout\n",
        "from tensorflow import keras\n",
        "from keras import preprocessing"
      ],
      "execution_count": 1224,
      "outputs": []
    },
    {
      "cell_type": "markdown",
      "metadata": {
        "id": "m-ULxSc9yRE4"
      },
      "source": [
        "# Uploading and preprocessing data"
      ]
    },
    {
      "cell_type": "code",
      "metadata": {
        "id": "Ys57rtPFx4uw"
      },
      "source": [
        "#lowercase and removing stopwords\n",
        "def get_data(filename):\n",
        "    with open(filename, 'r', encoding='unicode_escape') as f:\n",
        "        data = f.read()\n",
        "    data = data.lower()\n",
        "\n",
        "    nltk.download('stopwords')\n",
        "    stop_words = stopwords.words('english')\n",
        "    data = data.split()\n",
        "    data = [w for w in data if w not in stop_words]\n",
        "    data = \" \".join(data)\n",
        "\n",
        "    return(data)"
      ],
      "execution_count": 1225,
      "outputs": []
    },
    {
      "cell_type": "code",
      "metadata": {
        "colab": {
          "base_uri": "https://localhost:8080/",
          "height": 103
        },
        "id": "DCMBP37F1rgu",
        "outputId": "dbc51261-dd62-4056-a56a-d33bd28806e8"
      },
      "source": [
        "it_data = get_data('it_oriented.TXT')\n",
        "non_it_data = get_data('ordinary.TXT')\n",
        "all_data = it_data + non_it_data\n",
        "\n",
        "all_data[:20]"
      ],
      "execution_count": 1226,
      "outputs": [
        {
          "output_type": "stream",
          "name": "stdout",
          "text": [
            "[nltk_data] Downloading package stopwords to /root/nltk_data...\n",
            "[nltk_data]   Package stopwords is already up-to-date!\n",
            "[nltk_data] Downloading package stopwords to /root/nltk_data...\n",
            "[nltk_data]   Package stopwords is already up-to-date!\n"
          ]
        },
        {
          "output_type": "execute_result",
          "data": {
            "application/vnd.google.colaboratory.intrinsic+json": {
              "type": "string"
            },
            "text/plain": [
              "'reason java still re'"
            ]
          },
          "metadata": {},
          "execution_count": 1226
        }
      ]
    },
    {
      "cell_type": "code",
      "metadata": {
        "id": "c-hK_Y1Ux4ux"
      },
      "source": [
        "#creating word index\n",
        "def create_index(texts, filename):\n",
        "    words = texts.split() \n",
        "    \n",
        "    #there can be up to 50 000 words understood by our neural network\n",
        "    tokenizer = Tokenizer(num_words=50000) \n",
        "    \n",
        "    #we wil be tokenizing all of those words from the text files\n",
        "    tokenizer.fit_on_texts(words) \n",
        "    sequences = tokenizer.texts_to_sequences(words)\n",
        "    word_index = tokenizer.word_index\n",
        "\n",
        "    print(f\"Found {len(word_index)} unique words\") \n",
        "    \n",
        "    with open (filename, 'w') as f:\n",
        "        json.dump(word_index, f, indent=4)"
      ],
      "execution_count": 1227,
      "outputs": []
    },
    {
      "cell_type": "code",
      "metadata": {
        "id": "T9oM3Gp9x4ux",
        "scrolled": true,
        "colab": {
          "base_uri": "https://localhost:8080/"
        },
        "outputId": "a87d703b-6ad8-4aed-8af5-046f36c7778e"
      },
      "source": [
        "create_index(all_data, 'word_index.json')"
      ],
      "execution_count": 1228,
      "outputs": [
        {
          "output_type": "stream",
          "name": "stdout",
          "text": [
            "Found 12121 unique words\n"
          ]
        }
      ]
    },
    {
      "cell_type": "code",
      "metadata": {
        "id": "ErvVpCkl2rCc"
      },
      "source": [
        "#grab and return word index\n",
        "def get_index(filename): #for opening that json file\n",
        "    with open(filename, 'r') as f:\n",
        "        data = json.load(f)\n",
        "    return(data)"
      ],
      "execution_count": 1229,
      "outputs": []
    },
    {
      "cell_type": "code",
      "metadata": {
        "id": "Cn-RNon3287y"
      },
      "source": [
        "word_index = get_index('word_index.json')"
      ],
      "execution_count": 1230,
      "outputs": []
    },
    {
      "cell_type": "code",
      "metadata": {
        "id": "kgaxjl-s3peg"
      },
      "source": [
        "#creating sentences\n",
        "def create_sents(text):\n",
        "    nltk.download('punkt')\n",
        "    sentences = nltk.tokenize.sent_tokenize(text)\n",
        "    return(sentences)"
      ],
      "execution_count": 1231,
      "outputs": []
    },
    {
      "cell_type": "code",
      "metadata": {
        "id": "btdpcg7r4rFD",
        "colab": {
          "base_uri": "https://localhost:8080/",
          "height": 103
        },
        "outputId": "1983f441-ac36-42d9-e4b2-e0ca1940f12e"
      },
      "source": [
        "it_sents = create_sents(it_data)\n",
        "non_it_sents = create_sents(non_it_data)\n",
        "\n",
        "it_sents[0]"
      ],
      "execution_count": 1232,
      "outputs": [
        {
          "output_type": "stream",
          "name": "stdout",
          "text": [
            "[nltk_data] Downloading package punkt to /root/nltk_data...\n",
            "[nltk_data]   Package punkt is already up-to-date!\n",
            "[nltk_data] Downloading package punkt to /root/nltk_data...\n",
            "[nltk_data]   Package punkt is already up-to-date!\n"
          ]
        },
        {
          "output_type": "execute_result",
          "data": {
            "application/vnd.google.colaboratory.intrinsic+json": {
              "type": "string"
            },
            "text/plain": [
              "'reason java still relevant shoved throats high schoolers college students.'"
            ]
          },
          "metadata": {},
          "execution_count": 1232
        }
      ]
    },
    {
      "cell_type": "code",
      "metadata": {
        "id": "pEsJh3QH5BQM"
      },
      "source": [
        "#padding\n",
        "def padding_data(sentences, index, maxlen=25):\n",
        "    new_sentences = []\n",
        "    for sentence in sentences:\n",
        "        #this will give us a sentence converted to numerical array\n",
        "        sentence = text_to_word_sequence(sentence) \n",
        "        new_sentence = []\n",
        "        words = []\n",
        "        for word in sentence:\n",
        "            try:\n",
        "                word = index[word]\n",
        "            except:\n",
        "                KeyError\n",
        "                #for unknown words we encounter:\n",
        "                word = 0 \n",
        "            words.append(word)\n",
        "        new_sentence.append(words)\n",
        "        new_sentence = preprocessing.sequence.pad_sequences(new_sentence, maxlen=maxlen, padding='post')\n",
        "        new_sentences.append(new_sentence[0])\n",
        "    return(new_sentences)"
      ],
      "execution_count": 1233,
      "outputs": []
    },
    {
      "cell_type": "code",
      "metadata": {
        "colab": {
          "base_uri": "https://localhost:8080/"
        },
        "id": "heg9Cuu_5VkE",
        "outputId": "b892033c-3c8d-4ca9-c331-3ce7e7a2c2a8"
      },
      "source": [
        "it_padded = padding_data(it_sents, word_index, maxlen=25)\n",
        "non_it_padded = padding_data(non_it_sents, word_index, maxlen=25)\n",
        "\n",
        "it_padded[0]"
      ],
      "execution_count": 1234,
      "outputs": [
        {
          "output_type": "execute_result",
          "data": {
            "text/plain": [
              "array([ 359,  125,   79, 1165, 6041, 6042,  131, 6043,  849,  278,    0,\n",
              "          0,    0,    0,    0,    0,    0,    0,    0,    0,    0,    0,\n",
              "          0,    0,    0], dtype=int32)"
            ]
          },
          "metadata": {},
          "execution_count": 1234
        }
      ]
    },
    {
      "cell_type": "code",
      "metadata": {
        "id": "F_DFuW4T5iR3"
      },
      "source": [
        "#reverse word index\n",
        "#def reverse_index(word_index):\n",
        " #   reverse_word_index = {value: key for (key, value) in word_index.items()}\n",
        "  #  return(reverse_word_index)\n",
        "    \n",
        "#def reconst_text(text, reverse_word_index):\n",
        " #   return(\" \".join([reverse_word_index.get(i, \"?\") for i in text]))"
      ],
      "execution_count": 1235,
      "outputs": []
    },
    {
      "cell_type": "code",
      "metadata": {
        "id": "2S0z_rKR5pYa"
      },
      "source": [
        "#reverse_word_index = reverse_index(word_index)\n",
        "\n",
        "#reconst_text(it_padded[0], reverse_word_index)"
      ],
      "execution_count": 1236,
      "outputs": []
    },
    {
      "cell_type": "markdown",
      "metadata": {
        "id": "VTckgQd16Uj6"
      },
      "source": [
        "# Labelling Data"
      ]
    },
    {
      "cell_type": "code",
      "metadata": {
        "id": "R_tHRdoQ6YM_"
      },
      "source": [
        "def label_data(sentences, label):\n",
        "    total_chunks = []\n",
        "    for sentence in sentences:\n",
        "        #in form of a tuple that consists of a list of numbers and a label\n",
        "        total_chunks.append((sentence, label)) \n",
        "    return(total_chunks)"
      ],
      "execution_count": 1237,
      "outputs": []
    },
    {
      "cell_type": "code",
      "metadata": {
        "colab": {
          "base_uri": "https://localhost:8080/"
        },
        "id": "B_bOcrKp6Y4i",
        "outputId": "2bd3ad02-b5f3-4e6c-fd96-7fe48451fb8b"
      },
      "source": [
        "non_it_labelled = label_data(non_it_padded, 0)\n",
        "it_labelled = label_data(it_padded, 1)\n",
        "\n",
        "non_it_labelled[0]"
      ],
      "execution_count": 1238,
      "outputs": [
        {
          "output_type": "execute_result",
          "data": {
            "text/plain": [
              "(array([2779, 1803, 8427, 8428,  464, 5199, 1641,  649, 5200, 5201,  393,\n",
              "           0,    0,    0,    0,    0,    0,    0,    0,    0,    0,    0,\n",
              "           0,    0,    0], dtype=int32), 0)"
            ]
          },
          "metadata": {},
          "execution_count": 1238
        }
      ]
    },
    {
      "cell_type": "markdown",
      "metadata": {
        "id": "YtJOimlU6s8n"
      },
      "source": [
        "# Creating Training Data"
      ]
    },
    {
      "cell_type": "code",
      "metadata": {
        "id": "um4s9iOa6xlf"
      },
      "source": [
        "def create_training(total_chunks, cutoff):\n",
        "    random.shuffle(total_chunks)\n",
        "    training_data = []\n",
        "    training_labels = []\n",
        "    testing_data = []\n",
        "    testing_labels = []\n",
        "    test_num = len(total_chunks) * cutoff\n",
        "    x = 0\n",
        "    \n",
        "    for entry in total_chunks:\n",
        "        if x > test_num:\n",
        "            testing_data.append(entry[0])\n",
        "            testing_labels.append(entry[1])\n",
        "        else:\n",
        "            training_data.append(entry[0])\n",
        "            training_labels.append(entry[1])\n",
        "        x = x + 1\n",
        "\n",
        "    #we are converting all that into a numpy array\n",
        "    training_data = np.array(training_data) \n",
        "    training_labels = np.array(training_labels)\n",
        "    testing_data = np.array(testing_data)\n",
        "    testing_labels = np.array(testing_labels)\n",
        "    \n",
        "    return(training_data, training_labels, testing_data, testing_labels)"
      ],
      "execution_count": 1239,
      "outputs": []
    },
    {
      "cell_type": "code",
      "metadata": {
        "id": "W-uuP8nV6-ar"
      },
      "source": [
        "all_data = it_labelled + non_it_labelled\n",
        "tt_data = create_training(all_data, cutoff = 0.8)"
      ],
      "execution_count": 1240,
      "outputs": []
    },
    {
      "cell_type": "code",
      "metadata": {
        "id": "rCdDYiXlrKlR",
        "colab": {
          "base_uri": "https://localhost:8080/"
        },
        "outputId": "58496108-7648-4f6c-e667-10820709e669"
      },
      "source": [
        "tt_data"
      ],
      "execution_count": 1241,
      "outputs": [
        {
          "output_type": "execute_result",
          "data": {
            "text/plain": [
              "(array([[ 325,  276,  140, ...,    0,    0,    0],\n",
              "        [  27,    9,  888, ...,    0,    0,    0],\n",
              "        [ 845,  636,  170, ...,    0,    0,    0],\n",
              "        ...,\n",
              "        [   7,   51, 7208, ...,    0,    0,    0],\n",
              "        [ 159, 5142,   30, ...,    0,    0,    0],\n",
              "        [ 115,   20,   14, ...,    0,    0,    0]], dtype=int32),\n",
              " array([1, 0, 0, ..., 1, 1, 1]),\n",
              " array([[ 635,   64,  756, ...,    0,    0,    0],\n",
              "        [3493, 2064, 2202, ...,    0,    0,    0],\n",
              "        [  76,   85,   58, ...,    0,    0,    0],\n",
              "        ...,\n",
              "        [  18,   43,   70, ...,    0,    0,    0],\n",
              "        [ 576, 1574,    0, ...,    0,    0,    0],\n",
              "        [ 131,  404, 5740, ...,  925,  834, 1190]], dtype=int32),\n",
              " array([0, 0, 1, ..., 1, 0, 0]))"
            ]
          },
          "metadata": {},
          "execution_count": 1241
        }
      ]
    },
    {
      "cell_type": "code",
      "metadata": {
        "id": "z1qmWiEErKlT",
        "colab": {
          "base_uri": "https://localhost:8080/"
        },
        "outputId": "cf277a93-a844-4e0d-9882-cd026f0769bc"
      },
      "source": [
        "#create model\n",
        "def create_model():\n",
        "    model = keras.Sequential()\n",
        "    model.add(keras.layers.Embedding(20000, 25))\n",
        "    model.add(keras.layers.GlobalAveragePooling1D())\n",
        "    model.add(keras.layers.Dense(32, activation='relu'))\n",
        "    #model.add(Dropout(0.1))\n",
        "    model.add(keras.layers.Dense(32, activation='relu'))\n",
        "    #model.add(Dropout(0.1))\n",
        "    model.add(keras.layers.Dense(16, activation='relu'))\n",
        "    #model.add(Dropout(0.1))\n",
        "    model.add(keras.layers.Dense(1, activation='sigmoid'))\n",
        "    model.summary()\n",
        "    model.compile(optimizer='adam', loss='squared_hinge', metrics=['accuracy'])\n",
        "    return(model)\n",
        "\n",
        "#calling the function\n",
        "model = create_model()"
      ],
      "execution_count": 1242,
      "outputs": [
        {
          "output_type": "stream",
          "name": "stdout",
          "text": [
            "Model: \"sequential_61\"\n",
            "_________________________________________________________________\n",
            " Layer (type)                Output Shape              Param #   \n",
            "=================================================================\n",
            " embedding_61 (Embedding)    (None, None, 25)          500000    \n",
            "                                                                 \n",
            " global_average_pooling1d_61  (None, 25)               0         \n",
            "  (GlobalAveragePooling1D)                                       \n",
            "                                                                 \n",
            " dense_238 (Dense)           (None, 32)                832       \n",
            "                                                                 \n",
            " dense_239 (Dense)           (None, 32)                1056      \n",
            "                                                                 \n",
            " dense_240 (Dense)           (None, 16)                528       \n",
            "                                                                 \n",
            " dense_241 (Dense)           (None, 1)                 17        \n",
            "                                                                 \n",
            "=================================================================\n",
            "Total params: 502,433\n",
            "Trainable params: 502,433\n",
            "Non-trainable params: 0\n",
            "_________________________________________________________________\n"
          ]
        }
      ]
    },
    {
      "cell_type": "code",
      "metadata": {
        "id": "KVv6pUVzrKlU",
        "colab": {
          "base_uri": "https://localhost:8080/"
        },
        "outputId": "421be245-96a3-46a6-b5d2-0c378739b56e"
      },
      "source": [
        "#train model\n",
        "def train_model(model, tt_data, val_size=.1, epochs=1, batch_size=32):\n",
        "    vals = int(len(tt_data[0])*val_size)\n",
        "    training_data = tt_data[0]\n",
        "    training_labels = tt_data[1]\n",
        "    testing_data = tt_data[2]\n",
        "    testing_labels = tt_data[3]\n",
        "    \n",
        "    x_val = training_data[:vals]\n",
        "    x_train = training_data[vals:]\n",
        "    \n",
        "    y_val = training_labels[:vals]\n",
        "    y_train = training_labels[vals:]\n",
        "    \n",
        "    fitModel = model.fit(x_train, y_train, epochs=epochs, batch_size=batch_size, validation_data=(x_val, y_val), verbose=1, shuffle=True)\n",
        "    model_results = model.evaluate(testing_data, testing_labels)\n",
        "    \n",
        "#calling the function\n",
        "model = train_model(model, tt_data=tt_data, epochs=7, batch_size=32)"
      ],
      "execution_count": 1243,
      "outputs": [
        {
          "output_type": "stream",
          "name": "stdout",
          "text": [
            "Epoch 1/7\n",
            "160/160 [==============================] - 2s 7ms/step - loss: 1.1159 - accuracy: 0.5146 - val_loss: 0.9723 - val_accuracy: 0.5000\n",
            "Epoch 2/7\n",
            "160/160 [==============================] - 1s 6ms/step - loss: 0.8493 - accuracy: 0.6572 - val_loss: 0.6873 - val_accuracy: 0.8292\n",
            "Epoch 3/7\n",
            "160/160 [==============================] - 1s 6ms/step - loss: 0.6207 - accuracy: 0.9043 - val_loss: 0.6725 - val_accuracy: 0.8697\n",
            "Epoch 4/7\n",
            "160/160 [==============================] - 1s 5ms/step - loss: 0.5772 - accuracy: 0.9416 - val_loss: 0.6615 - val_accuracy: 0.8750\n",
            "Epoch 5/7\n",
            "160/160 [==============================] - 1s 5ms/step - loss: 0.5564 - accuracy: 0.9613 - val_loss: 0.6607 - val_accuracy: 0.8768\n",
            "Epoch 6/7\n",
            "160/160 [==============================] - 1s 6ms/step - loss: 0.5474 - accuracy: 0.9703 - val_loss: 0.6675 - val_accuracy: 0.8750\n",
            "Epoch 7/7\n",
            "160/160 [==============================] - 1s 6ms/step - loss: 0.5407 - accuracy: 0.9768 - val_loss: 0.6797 - val_accuracy: 0.8768\n",
            "45/45 [==============================] - 0s 1ms/step - loss: 0.6508 - accuracy: 0.9148\n"
          ]
        }
      ]
    },
    {
      "cell_type": "code",
      "metadata": {
        "id": "rOPhcfM9v0aB"
      },
      "source": [
        ""
      ],
      "execution_count": 1243,
      "outputs": []
    }
  ]
}