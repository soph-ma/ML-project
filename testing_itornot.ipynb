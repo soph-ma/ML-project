{
 "cells": [
  {
   "cell_type": "code",
   "execution_count": 1,
   "metadata": {},
   "outputs": [],
   "source": [
    "import pandas as pd\n",
    "import numpy as np\n",
    "import json\n",
    "import random\n",
    "import nltk\n",
    "from nltk.corpus import stopwords\n",
    "from keras.preprocessing.text import Tokenizer\n",
    "from keras.preprocessing.text import text_to_word_sequence\n",
    "from keras.layers import Dropout\n",
    "from tensorflow import keras\n",
    "from keras import preprocessing\n",
    "from keras import Model\n",
    "import tensorflow as tf"
   ]
  },
  {
   "cell_type": "markdown",
   "metadata": {},
   "source": [
    "# Functions for preprocessing"
   ]
  },
  {
   "cell_type": "code",
   "execution_count": 2,
   "metadata": {},
   "outputs": [
    {
     "name": "stderr",
     "output_type": "stream",
     "text": [
      "[nltk_data] Downloading package stopwords to /root/nltk_data...\n",
      "[nltk_data]   Package stopwords is already up-to-date!\n"
     ]
    }
   ],
   "source": [
    "#creating sentences\n",
    "def create_sents(text):\n",
    "    nltk.download('punkt')\n",
    "    sentences = nltk.tokenize.sent_tokenize(text)\n",
    "    return(sentences)\n",
    "\n",
    "#padding\n",
    "def padding_data(sentences, index, maxlen=25):\n",
    "    new_sentences = []\n",
    "    for sentence in sentences:\n",
    "        #this will give us a sentence converted to numerical array\n",
    "        sentence = text_to_word_sequence(sentence) \n",
    "        new_sentence = []\n",
    "        words = []\n",
    "        for word in sentence:\n",
    "            try:\n",
    "                word = index[word]\n",
    "            except:\n",
    "                KeyError\n",
    "                #for unknown words we encounter:\n",
    "                word = 0 \n",
    "            words.append(word)\n",
    "        new_sentence.append(words)\n",
    "        new_sentence = preprocessing.sequence.pad_sequences(new_sentence, maxlen=maxlen, padding='post')\n",
    "        new_sentences.append(new_sentence[0])\n",
    "    return(new_sentences)\n",
    "\n",
    "#downloading stopwords\n",
    "nltk.download('stopwords')\n",
    "\n",
    "#returing word index\n",
    "def get_index(filename): #for opening that json file\n",
    "    with open(filename, 'r') as f:\n",
    "        data = json.load(f)\n",
    "    return(data)\n",
    "word_index = get_index('word_index.json')\n"
   ]
  },
  {
   "cell_type": "markdown",
   "metadata": {
    "id": "A3qLoFkWvdLI"
   },
   "source": [
    "# Test model on the string"
   ]
  },
  {
   "cell_type": "code",
   "execution_count": 23,
   "metadata": {
    "id": "ZZOA-KQUvORJ"
   },
   "outputs": [
    {
     "name": "stdout",
     "output_type": "stream",
     "text": [
      "machine learning is the study of computer algorithms that can improve automatically through experience and by the use of data.\n",
      "[[0.9983656]]\n"
     ]
    },
    {
     "name": "stderr",
     "output_type": "stream",
     "text": [
      "[nltk_data] Downloading package punkt to /root/nltk_data...\n",
      "[nltk_data]   Package punkt is already up-to-date!\n"
     ]
    }
   ],
   "source": [
    "#uploading the model\n",
    "model = keras.models.load_model('models/it_or_not.model')\n",
    "\n",
    "#function for preparing a sentence or a text\n",
    "def prepare(sent):\n",
    "  prep_sent = sent.lower()\n",
    "  print(prep_sent)\n",
    "  test_sent = create_sents(prep_sent) #turning into num arrays\n",
    "  test_padded = padding_data(test_sent, word_index, maxlen=25)\n",
    "  test_array = np.array(test_padded)\n",
    "  return test_array\n",
    "\n",
    "t_sent = \"Machine learning is the study of computer algorithms that can improve automatically through experience and by the use of data.\"\n",
    "prepared_sent = prepare(t_sent)\n",
    "\n",
    "prediction = model.predict(prepared_sent)\n",
    "print(prediction)"
   ]
  },
  {
   "cell_type": "markdown",
   "metadata": {},
   "source": [
    "# Test model on the file"
   ]
  },
  {
   "cell_type": "code",
   "execution_count": 4,
   "metadata": {},
   "outputs": [],
   "source": [
    "# #function for preparing a text file\n",
    "# def prepare_file(filename):\n",
    "#     with open(filename, 'r', encoding='utf-8') as f:\n",
    "#         text = f.read()\n",
    "#     text = text.lower()\n",
    "#     text = [w for w in text.split() if w not in stopwords.words('english')]\n",
    "#     text = ' '.join(text)\n",
    "        \n",
    "#     return text\n",
    "# #         prep_sent = str([w.lower() for w in text.split() if w not in stopwords.words('english')])\n",
    "# #         test_sent = create_sents(prep_sent)\n",
    "# #         test_padded = padding_data(test_sent, word_index, maxlen=25)\n",
    "# #         test_array = np.array(test_padded)\n",
    "#    # return text"
   ]
  }
 ],
 "metadata": {
  "colab": {
   "collapsed_sections": [],
   "name": "testing_itornot",
   "provenance": []
  },
  "kernelspec": {
   "display_name": "Python 3",
   "language": "python",
   "name": "python3"
  },
  "language_info": {
   "codemirror_mode": {
    "name": "ipython",
    "version": 3
   },
   "file_extension": ".py",
   "mimetype": "text/x-python",
   "name": "python",
   "nbconvert_exporter": "python",
   "pygments_lexer": "ipython3",
   "version": "3.8.10"
  }
 },
 "nbformat": 4,
 "nbformat_minor": 1
}
